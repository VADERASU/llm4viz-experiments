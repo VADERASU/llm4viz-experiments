{
 "cells": [
  {
   "cell_type": "markdown",
   "id": "88ddd2a4",
   "metadata": {
    "toc": true
   },
   "source": [
    "<h1>Table of Contents<span class=\"tocSkip\"></span></h1>\n",
    "<div class=\"toc\"><ul class=\"toc-item\"><li><span><a href=\"#Import-Packages\" data-toc-modified-id=\"Import-Packages-1\"><span class=\"toc-item-num\">1&nbsp;&nbsp;</span>Import Packages</a></span></li><li><span><a href=\"#Get-Data\" data-toc-modified-id=\"Get-Data-2\"><span class=\"toc-item-num\">2&nbsp;&nbsp;</span>Get Data</a></span><ul class=\"toc-item\"><li><span><a href=\"#Export-Date\" data-toc-modified-id=\"Export-Date-2.1\"><span class=\"toc-item-num\">2.1&nbsp;&nbsp;</span>Export Date</a></span></li></ul></li><li><span><a href=\"#Within-LLM-Experiment-Analysis\" data-toc-modified-id=\"Within-LLM-Experiment-Analysis-3\"><span class=\"toc-item-num\">3&nbsp;&nbsp;</span>Within LLM Experiment Analysis</a></span><ul class=\"toc-item\"><li><span><a href=\"#ChatGPT\" data-toc-modified-id=\"ChatGPT-3.1\"><span class=\"toc-item-num\">3.1&nbsp;&nbsp;</span>ChatGPT</a></span><ul class=\"toc-item\"><li><span><a href=\"#Visualization-and-Choices\" data-toc-modified-id=\"Visualization-and-Choices-3.1.1\"><span class=\"toc-item-num\">3.1.1&nbsp;&nbsp;</span>Visualization and Choices</a></span><ul class=\"toc-item\"><li><span><a href=\"#Correct-Classification-(ANOVA,-Logistic)\" data-toc-modified-id=\"Correct-Classification-(ANOVA,-Logistic)-3.1.1.1\"><span class=\"toc-item-num\">3.1.1.1&nbsp;&nbsp;</span>Correct Classification (ANOVA, Logistic)</a></span></li><li><span><a href=\"#Percent-Correct-(ANOVA,-Beta-Regression)\" data-toc-modified-id=\"Percent-Correct-(ANOVA,-Beta-Regression)-3.1.1.2\"><span class=\"toc-item-num\">3.1.1.2&nbsp;&nbsp;</span>Percent Correct (ANOVA, Beta Regression)</a></span></li></ul></li><li><span><a href=\"#No-Visualization-and-Choices\" data-toc-modified-id=\"No-Visualization-and-Choices-3.1.2\"><span class=\"toc-item-num\">3.1.2&nbsp;&nbsp;</span>No Visualization and Choices</a></span><ul class=\"toc-item\"><li><span><a href=\"#Correct-Classification-(ANOVA,-Logistic)\" data-toc-modified-id=\"Correct-Classification-(ANOVA,-Logistic)-3.1.2.1\"><span class=\"toc-item-num\">3.1.2.1&nbsp;&nbsp;</span>Correct Classification (ANOVA, Logistic)</a></span></li><li><span><a href=\"#Percent-Correct-(ANOVA,-Beta-Regression)\" data-toc-modified-id=\"Percent-Correct-(ANOVA,-Beta-Regression)-3.1.2.2\"><span class=\"toc-item-num\">3.1.2.2&nbsp;&nbsp;</span>Percent Correct (ANOVA, Beta Regression)</a></span></li></ul></li><li><span><a href=\"#Viz+Choices-vs.-No-Viz+Choices\" data-toc-modified-id=\"Viz+Choices-vs.-No-Viz+Choices-3.1.3\"><span class=\"toc-item-num\">3.1.3&nbsp;&nbsp;</span>Viz+Choices vs. No Viz+Choices</a></span><ul class=\"toc-item\"><li><span><a href=\"#Correct-Classification-(ANOVA,-Logistic)\" data-toc-modified-id=\"Correct-Classification-(ANOVA,-Logistic)-3.1.3.1\"><span class=\"toc-item-num\">3.1.3.1&nbsp;&nbsp;</span>Correct Classification (ANOVA, Logistic)</a></span></li><li><span><a href=\"#Percent-Correct-(ANOVA,-Beta-Regression)\" data-toc-modified-id=\"Percent-Correct-(ANOVA,-Beta-Regression)-3.1.3.2\"><span class=\"toc-item-num\">3.1.3.2&nbsp;&nbsp;</span>Percent Correct (ANOVA, Beta Regression)</a></span></li></ul></li></ul></li><li><span><a href=\"#Gemini\" data-toc-modified-id=\"Gemini-3.2\"><span class=\"toc-item-num\">3.2&nbsp;&nbsp;</span>Gemini</a></span><ul class=\"toc-item\"><li><span><a href=\"#Visualiation-and-Choices\" data-toc-modified-id=\"Visualiation-and-Choices-3.2.1\"><span class=\"toc-item-num\">3.2.1&nbsp;&nbsp;</span>Visualiation and Choices</a></span><ul class=\"toc-item\"><li><span><a href=\"#Correct-Classification-(ANOVA,-Logistic)\" data-toc-modified-id=\"Correct-Classification-(ANOVA,-Logistic)-3.2.1.1\"><span class=\"toc-item-num\">3.2.1.1&nbsp;&nbsp;</span>Correct Classification (ANOVA, Logistic)</a></span></li><li><span><a href=\"#Percent-Correct-(ANOVA,-Beta-Regression)\" data-toc-modified-id=\"Percent-Correct-(ANOVA,-Beta-Regression)-3.2.1.2\"><span class=\"toc-item-num\">3.2.1.2&nbsp;&nbsp;</span>Percent Correct (ANOVA, Beta Regression)</a></span></li></ul></li><li><span><a href=\"#No-Visualization-and-Choices\" data-toc-modified-id=\"No-Visualization-and-Choices-3.2.2\"><span class=\"toc-item-num\">3.2.2&nbsp;&nbsp;</span>No Visualization and Choices</a></span><ul class=\"toc-item\"><li><span><a href=\"#Correct-Classification-(ANOVA,-Logistic)\" data-toc-modified-id=\"Correct-Classification-(ANOVA,-Logistic)-3.2.2.1\"><span class=\"toc-item-num\">3.2.2.1&nbsp;&nbsp;</span>Correct Classification (ANOVA, Logistic)</a></span></li><li><span><a href=\"#Percent-Correct-(ANOVA,-Beta-Regression)\" data-toc-modified-id=\"Percent-Correct-(ANOVA,-Beta-Regression)-3.2.2.2\"><span class=\"toc-item-num\">3.2.2.2&nbsp;&nbsp;</span>Percent Correct (ANOVA, Beta Regression)</a></span></li></ul></li><li><span><a href=\"#Viz+Choices-vs.-No-Vix+Choices\" data-toc-modified-id=\"Viz+Choices-vs.-No-Vix+Choices-3.2.3\"><span class=\"toc-item-num\">3.2.3&nbsp;&nbsp;</span>Viz+Choices vs. No Vix+Choices</a></span><ul class=\"toc-item\"><li><span><a href=\"#Correct-Classification-(ANOVA,-Logistic)\" data-toc-modified-id=\"Correct-Classification-(ANOVA,-Logistic)-3.2.3.1\"><span class=\"toc-item-num\">3.2.3.1&nbsp;&nbsp;</span>Correct Classification (ANOVA, Logistic)</a></span></li><li><span><a href=\"#Percent-Correct-(ANOVA,-Beta-Regression)\" data-toc-modified-id=\"Percent-Correct-(ANOVA,-Beta-Regression)-3.2.3.2\"><span class=\"toc-item-num\">3.2.3.2&nbsp;&nbsp;</span>Percent Correct (ANOVA, Beta Regression)</a></span></li></ul></li></ul></li></ul></li><li><span><a href=\"#Between-LLMs-Experiment-Analysis\" data-toc-modified-id=\"Between-LLMs-Experiment-Analysis-4\"><span class=\"toc-item-num\">4&nbsp;&nbsp;</span>Between LLMs Experiment Analysis</a></span><ul class=\"toc-item\"><li><span><a href=\"#Visualization-and-Choices\" data-toc-modified-id=\"Visualization-and-Choices-4.1\"><span class=\"toc-item-num\">4.1&nbsp;&nbsp;</span>Visualization and Choices</a></span><ul class=\"toc-item\"><li><ul class=\"toc-item\"><li><span><a href=\"#Correct-Classification-(ANOVA,-Logistic)\" data-toc-modified-id=\"Correct-Classification-(ANOVA,-Logistic)-4.1.0.1\"><span class=\"toc-item-num\">4.1.0.1&nbsp;&nbsp;</span>Correct Classification (ANOVA, Logistic)</a></span></li><li><span><a href=\"#Percent-Correct-(ANOVA,-Beta-Regression)\" data-toc-modified-id=\"Percent-Correct-(ANOVA,-Beta-Regression)-4.1.0.2\"><span class=\"toc-item-num\">4.1.0.2&nbsp;&nbsp;</span>Percent Correct (ANOVA, Beta Regression)</a></span></li></ul></li></ul></li><li><span><a href=\"#No-Visualization-and-Choices\" data-toc-modified-id=\"No-Visualization-and-Choices-4.2\"><span class=\"toc-item-num\">4.2&nbsp;&nbsp;</span>No Visualization and Choices</a></span><ul class=\"toc-item\"><li><ul class=\"toc-item\"><li><span><a href=\"#Correct-Classification-(ANOVA,-Logistic)\" data-toc-modified-id=\"Correct-Classification-(ANOVA,-Logistic)-4.2.0.1\"><span class=\"toc-item-num\">4.2.0.1&nbsp;&nbsp;</span>Correct Classification (ANOVA, Logistic)</a></span></li><li><span><a href=\"#Percent-Correct-(ANOVA,-Beta-Regression)\" data-toc-modified-id=\"Percent-Correct-(ANOVA,-Beta-Regression)-4.2.0.2\"><span class=\"toc-item-num\">4.2.0.2&nbsp;&nbsp;</span>Percent Correct (ANOVA, Beta Regression)</a></span></li></ul></li></ul></li></ul></li><li><span><a href=\"#Full-Logistic-Regression\" data-toc-modified-id=\"Full-Logistic-Regression-5\"><span class=\"toc-item-num\">5&nbsp;&nbsp;</span>Full Logistic Regression</a></span><ul class=\"toc-item\"><li><span><a href=\"#Bootstrapping\" data-toc-modified-id=\"Bootstrapping-5.1\"><span class=\"toc-item-num\">5.1&nbsp;&nbsp;</span>Bootstrapping</a></span><ul class=\"toc-item\"><li><span><a href=\"#Coefficient-Histograms-and-Boxplots\" data-toc-modified-id=\"Coefficient-Histograms-and-Boxplots-5.1.1\"><span class=\"toc-item-num\">5.1.1&nbsp;&nbsp;</span>Coefficient Histograms and Boxplots</a></span></li><li><span><a href=\"#Q-Q-Plots-(Normal-Distributions)\" data-toc-modified-id=\"Q-Q-Plots-(Normal-Distributions)-5.1.2\"><span class=\"toc-item-num\">5.1.2&nbsp;&nbsp;</span>Q-Q Plots (Normal Distributions)</a></span></li><li><span><a href=\"#Calculate-Confidence-Intervals-and-Mean-Coefficients\" data-toc-modified-id=\"Calculate-Confidence-Intervals-and-Mean-Coefficients-5.1.3\"><span class=\"toc-item-num\">5.1.3&nbsp;&nbsp;</span>Calculate Confidence Intervals and Mean Coefficients</a></span><ul class=\"toc-item\"><li><span><a href=\"#Non-parametric-Wilcoxon-signed-ranked-test\" data-toc-modified-id=\"Non-parametric-Wilcoxon-signed-ranked-test-5.1.3.1\"><span class=\"toc-item-num\">5.1.3.1&nbsp;&nbsp;</span>Non-parametric Wilcoxon signed ranked test</a></span></li></ul></li><li><span><a href=\"#Ridge-Plots-of-Coefficients-(Vis.-Present-Only)\" data-toc-modified-id=\"Ridge-Plots-of-Coefficients-(Vis.-Present-Only)-5.1.4\"><span class=\"toc-item-num\">5.1.4&nbsp;&nbsp;</span>Ridge Plots of Coefficients (Vis. Present Only)</a></span><ul class=\"toc-item\"><li><span><a href=\"#General-Coefficient-Plot-(LLM-Rows)\" data-toc-modified-id=\"General-Coefficient-Plot-(LLM-Rows)-5.1.4.1\"><span class=\"toc-item-num\">5.1.4.1&nbsp;&nbsp;</span>General Coefficient Plot (LLM Rows)</a></span></li><li><span><a href=\"#General-Coefficient-Plot-(Viz-Presence-Rows)\" data-toc-modified-id=\"General-Coefficient-Plot-(Viz-Presence-Rows)-5.1.4.2\"><span class=\"toc-item-num\">5.1.4.2&nbsp;&nbsp;</span>General Coefficient Plot (Viz Presence Rows)</a></span></li><li><span><a href=\"#Chart-Coefficient-Plot-(Viz-Present-Only)\" data-toc-modified-id=\"Chart-Coefficient-Plot-(Viz-Present-Only)-5.1.4.3\"><span class=\"toc-item-num\">5.1.4.3&nbsp;&nbsp;</span>Chart Coefficient Plot (Viz Present Only)</a></span></li><li><span><a href=\"#Task-Coefficient-Plot-(Viz-Present-Only)\" data-toc-modified-id=\"Task-Coefficient-Plot-(Viz-Present-Only)-5.1.4.4\"><span class=\"toc-item-num\">5.1.4.4&nbsp;&nbsp;</span>Task Coefficient Plot (Viz Present Only)</a></span></li><li><span><a href=\"#Chart/Task-Coefficient-Plot-(Viz-Present-Only)\" data-toc-modified-id=\"Chart/Task-Coefficient-Plot-(Viz-Present-Only)-5.1.4.5\"><span class=\"toc-item-num\">5.1.4.5&nbsp;&nbsp;</span>Chart/Task Coefficient Plot (Viz Present Only)</a></span></li></ul></li><li><span><a href=\"#Probability-Histograms-and-Boxplots\" data-toc-modified-id=\"Probability-Histograms-and-Boxplots-5.1.5\"><span class=\"toc-item-num\">5.1.5&nbsp;&nbsp;</span>Probability Histograms and Boxplots</a></span></li><li><span><a href=\"#Q-Q-Plots-(Beta-Distributions)\" data-toc-modified-id=\"Q-Q-Plots-(Beta-Distributions)-5.1.6\"><span class=\"toc-item-num\">5.1.6&nbsp;&nbsp;</span>Q-Q Plots (Beta Distributions)</a></span></li><li><span><a href=\"#Viz-vs.-No-Viz-Beta-Difference\" data-toc-modified-id=\"Viz-vs.-No-Viz-Beta-Difference-5.1.7\"><span class=\"toc-item-num\">5.1.7&nbsp;&nbsp;</span>Viz vs. No Viz Beta-Difference</a></span><ul class=\"toc-item\"><li><span><a href=\"#Non-parametric-Wilcoxon-signed-ranked-test\" data-toc-modified-id=\"Non-parametric-Wilcoxon-signed-ranked-test-5.1.7.1\"><span class=\"toc-item-num\">5.1.7.1&nbsp;&nbsp;</span>Non-parametric Wilcoxon signed ranked test</a></span></li></ul></li><li><span><a href=\"#ChatGPT-vs.-Gemini-with-Viz-Beta-Difference\" data-toc-modified-id=\"ChatGPT-vs.-Gemini-with-Viz-Beta-Difference-5.1.8\"><span class=\"toc-item-num\">5.1.8&nbsp;&nbsp;</span>ChatGPT vs. Gemini with Viz Beta-Difference</a></span><ul class=\"toc-item\"><li><span><a href=\"#Non-parametric-Wilcoxon-signed-ranked-test\" data-toc-modified-id=\"Non-parametric-Wilcoxon-signed-ranked-test-5.1.8.1\"><span class=\"toc-item-num\">5.1.8.1&nbsp;&nbsp;</span>Non-parametric Wilcoxon signed ranked test</a></span></li></ul></li></ul></li></ul></li><li><span><a href=\"#Testing-Difference-of-Proportion-Functions\" data-toc-modified-id=\"Testing-Difference-of-Proportion-Functions-6\"><span class=\"toc-item-num\">6&nbsp;&nbsp;</span>Testing Difference of Proportion Functions</a></span><ul class=\"toc-item\"><li><span><a href=\"#Testing-Quantile-Function\" data-toc-modified-id=\"Testing-Quantile-Function-6.1\"><span class=\"toc-item-num\">6.1&nbsp;&nbsp;</span>Testing Quantile Function</a></span></li></ul></li></ul></div>"
   ]
  },
  {
   "cell_type": "markdown",
   "id": "8f3dc3f9",
   "metadata": {},
   "source": [
    "# Import Packages"
   ]
  },
  {
   "cell_type": "code",
   "execution_count": null,
   "id": "3bca02c9",
   "metadata": {
    "ExecuteTime": {
     "end_time": "2024-03-29T21:36:53.672614Z",
     "start_time": "2024-03-29T21:36:52.058856Z"
    }
   },
   "outputs": [],
   "source": [
    "import json\n",
    "import numpy as np\n",
    "import pandas as pd\n",
    "import scipy.stats as stats\n",
    "from os import listdir\n",
    "from os.path import isfile, join\n",
    "import math\n",
    "import random\n",
    "from multiprocessing import Pool\n",
    "\n",
    "import statsmodels.api as sm\n",
    "from statsmodels.formula.api import ols,logit,probit\n",
    "from statsmodels.miscmodels.ordinal_model import OrderedModel\n",
    "from statsmodels.othermod.betareg import BetaModel\n",
    "\n",
    "from sklearn.linear_model import LogisticRegression\n",
    "from sklearn.model_selection import KFold\n",
    "from sklearn.utils import resample\n",
    "\n",
    "import plotly.graph_objects as go\n",
    "import plotly.express as px\n",
    "import matplotlib.pyplot as plt\n",
    "import plotly.tools as tls\n",
    "from ridgeplot import ridgeplot, list_all_colorscale_names\n",
    "\n",
    "from analysisFuncs import resultsFunc,numCorrCalc,perCorrDiffCalc,varColDF,logisticModRun,logisticTests,nudgeFactor\n",
    "from analysisFuncs import appellFunc, dDiffProp, pDiffProp, qDiffProp\n",
    "from analysisFuncs import pdfDiffProp, cdfDiffProp, ppfDiffProp"
   ]
  },
  {
   "cell_type": "markdown",
   "id": "86721dd2",
   "metadata": {},
   "source": [
    "# Get Data"
   ]
  },
  {
   "cell_type": "code",
   "execution_count": null,
   "id": "ab4f17a5",
   "metadata": {
    "ExecuteTime": {
     "end_time": "2024-03-12T03:32:19.890870Z",
     "start_time": "2024-03-12T03:32:19.888265Z"
    }
   },
   "outputs": [],
   "source": [
    "# Get VLAT questions and answers JSON\n",
    "f = open('reVLAT_QAs.json')\n",
    "qaDict = json.load(f)\n",
    "\n",
    "dirList = ['reVLAT_Viz+Choices',\n",
    "           'reVLAT_NoViz+Choices',\n",
    "           'reVLAT_Viz+NoChoices',\n",
    "           'reVLAT_NoViz+NoChoices']"
   ]
  },
  {
   "cell_type": "markdown",
   "id": "fc08fedf",
   "metadata": {},
   "source": [
    "## Export Date"
   ]
  },
  {
   "cell_type": "code",
   "execution_count": null,
   "id": "bce513a6",
   "metadata": {
    "ExecuteTime": {
     "end_time": "2024-02-22T22:39:55.605170Z",
     "start_time": "2024-02-22T22:39:26.806120Z"
    },
    "scrolled": true
   },
   "outputs": [],
   "source": [
    "dfList = []\n",
    "llmList = ['ChatGPT','Gemini']\n",
    "for llm in llmList:\n",
    "    for dirLoc in dirList:\n",
    "        fileLoc = dirLoc+'/Results/'+llm\n",
    "        resultsDF = resultsFunc(fileLoc,\n",
    "                                qaDict)\n",
    "        resultsDF['qType_simple'] = resultsDF['qType'].apply(lambda x:x.split(' (')[0].lower())\n",
    "        resultsDF['expType'] = dirLoc\n",
    "        resultsDF['LLM'] = llm\n",
    "\n",
    "        dfList.append(resultsDF)\n",
    "\n",
    "fullDF = pd.concat(dfList)\n",
    "fullDF = fullDF.reset_index(drop=True)"
   ]
  },
  {
   "cell_type": "code",
   "execution_count": null,
   "id": "8b08dbfe",
   "metadata": {
    "ExecuteTime": {
     "end_time": "2024-02-22T22:39:55.618839Z",
     "start_time": "2024-02-22T22:39:55.606326Z"
    }
   },
   "outputs": [],
   "source": [
    "fullDF.head(1000000)"
   ]
  },
  {
   "cell_type": "code",
   "execution_count": null,
   "id": "37864a83",
   "metadata": {
    "ExecuteTime": {
     "end_time": "2024-02-22T22:39:55.921695Z",
     "start_time": "2024-02-22T22:39:55.619678Z"
    }
   },
   "outputs": [],
   "source": [
    "fullDF.to_csv('Analysis/allResults.csv',index=False)"
   ]
  },
  {
   "cell_type": "code",
   "execution_count": null,
   "id": "71132cdd",
   "metadata": {
    "ExecuteTime": {
     "end_time": "2024-02-22T22:39:56.225228Z",
     "start_time": "2024-02-22T22:39:55.922812Z"
    }
   },
   "outputs": [],
   "source": [
    "numCorrDF_list = []\n",
    "choiceList = [dirList[0],\n",
    "              dirList[1]]\n",
    "for llm in llmList:\n",
    "    for dirLoc in choiceList:\n",
    "        resultsDF = numCorrCalc(fullDF,\n",
    "                                {'LLM':llm,\n",
    "                                 'expType':dirLoc},\n",
    "                                qaDict)\n",
    "        resultsDF['expType'] = dirLoc\n",
    "        resultsDF['LLM'] = llm\n",
    "        numCorrDF_list.append(resultsDF)\n",
    "\n",
    "numCorrDF = pd.concat(numCorrDF_list)\n",
    "numCorrDF = numCorrDF.reset_index(drop=True)"
   ]
  },
  {
   "cell_type": "code",
   "execution_count": null,
   "id": "cbff3449",
   "metadata": {
    "ExecuteTime": {
     "end_time": "2024-02-22T22:39:56.237771Z",
     "start_time": "2024-02-22T22:39:56.226025Z"
    }
   },
   "outputs": [],
   "source": [
    "numCorrDF.head(1000)"
   ]
  },
  {
   "cell_type": "code",
   "execution_count": null,
   "id": "5f99bf8b",
   "metadata": {
    "ExecuteTime": {
     "end_time": "2024-02-22T22:39:56.242415Z",
     "start_time": "2024-02-22T22:39:56.238719Z"
    }
   },
   "outputs": [],
   "source": [
    "numCorrDF.to_csv('Analysis/choiceResults.csv',index=False)"
   ]
  },
  {
   "cell_type": "markdown",
   "id": "1c200911",
   "metadata": {},
   "source": [
    "# Full Logistic Regression"
   ]
  },
  {
   "cell_type": "code",
   "execution_count": null,
   "id": "025b1e14",
   "metadata": {
    "ExecuteTime": {
     "end_time": "2024-03-29T21:36:58.171661Z",
     "start_time": "2024-03-29T21:36:58.090614Z"
    }
   },
   "outputs": [],
   "source": [
    "dirLoc = 'Analysis/fullLogisticModel'\n",
    "\n",
    "expTypeFil = (fullDF['expType']==dirList[1])|(fullDF['expType']==dirList[0])\n",
    "corrDF = fullDF.loc[expTypeFil,:]\n",
    "corrDF['corrInt'] = corrDF['correct'].apply(lambda x: int(x))\n",
    "corrDF = corrDF.reset_index(drop=True)\n",
    "\n",
    "chatGPTPerCorrDF = numCorrCalc(fullDF,\n",
    "                               {'LLM':'ChatGPT',\n",
    "                                'expType':dirList[0]},\n",
    "                               qaDict)\n",
    "geminiPerCorrDF = numCorrCalc(fullDF,\n",
    "                              {'LLM':'Gemini',\n",
    "                               'expType':dirList[0]},\n",
    "                              qaDict)\n",
    "perCorrDiffDF = perCorrDiffCalc(chatGPTPerCorrDF,\n",
    "                                geminiPerCorrDF,\n",
    "                                qaDict)\n",
    "\n",
    "corrLogisticDF,corrLogisticFormStr = varColDF(corrDF,\n",
    "                                              perCorrDiffDF,\n",
    "                                              llmList=['ChatGPT',\n",
    "                                                       'Gemini'],\n",
    "                                              expList=['reVLAT_Viz+Choices',\n",
    "                                                       'reVLAT_NoViz+Choices'])"
   ]
  },
  {
   "cell_type": "code",
   "execution_count": null,
   "id": "67c72d94",
   "metadata": {
    "ExecuteTime": {
     "end_time": "2024-03-05T04:17:39.137937Z",
     "start_time": "2024-03-05T04:17:39.130905Z"
    }
   },
   "outputs": [],
   "source": [
    "corrLogisticDF.to_csv(dirLoc+'/logisticData.csv',\n",
    "                      index=False)\n",
    "corrLogisticDF.head(100000)"
   ]
  },
  {
   "cell_type": "markdown",
   "id": "ed0a0f7e",
   "metadata": {},
   "source": [
    "## Bootstrapping"
   ]
  },
  {
   "cell_type": "code",
   "execution_count": null,
   "id": "51f60992",
   "metadata": {
    "ExecuteTime": {
     "end_time": "2024-03-12T03:38:25.809256Z",
     "start_time": "2024-03-12T03:38:25.430771Z"
    }
   },
   "outputs": [],
   "source": [
    "corrLogisticDF = pd.read_csv(dirLoc+'/logisticData.csv')\n",
    "\n",
    "n = 1000\n",
    "bestPenalty = None\n",
    "bestSolver = 'lbfgs'\n",
    "maxIter = 10000"
   ]
  },
  {
   "cell_type": "code",
   "execution_count": null,
   "id": "593f5633",
   "metadata": {
    "ExecuteTime": {
     "end_time": "2024-02-23T00:47:54.825725Z",
     "start_time": "2024-02-22T23:03:29.172012Z"
    }
   },
   "outputs": [],
   "source": [
    "randList = random.sample(range(10000), n)\n",
    "dfList = []\n",
    "for randNum in randList:\n",
    "    resampDF = resample(corrLogisticDF,random_state=randNum)\n",
    "    print(len(resampDF))\n",
    "\n",
    "    y = resampDF.loc[:,'corrInt']\n",
    "    X = resampDF.loc[:,corrLogisticDF.columns != 'corrInt']\n",
    "\n",
    "    clf = LogisticRegression(solver=bestSolver,\n",
    "                             max_iter=maxIter,\n",
    "                             penalty=bestPenalty).fit(X, y)\n",
    "    print(clf.get_params())\n",
    "\n",
    "    finalLogisticDF = pd.DataFrame({'var':X.columns,'coef':list(clf.coef_[0])})    \n",
    "    lastRow = len(finalLogisticDF)\n",
    "    finalLogisticDF.at[lastRow,'var'] = 'intercept'\n",
    "    finalLogisticDF.at[lastRow,'coef'] = clf.intercept_\n",
    "    \n",
    "    finalLogisticDF = finalLogisticDF.T\n",
    "    finalLogisticDF.columns = finalLogisticDF.iloc[0]\n",
    "    finalLogisticDF = finalLogisticDF.drop(finalLogisticDF.index[0])    \n",
    "    dfList.append(finalLogisticDF)\n",
    "\n",
    "resampLogisticDF = pd.concat(dfList)\n",
    "resampLogisticDF = resampLogisticDF.reset_index(drop=True)"
   ]
  },
  {
   "cell_type": "code",
   "execution_count": null,
   "id": "b879413d",
   "metadata": {
    "ExecuteTime": {
     "end_time": "2024-02-23T00:47:54.840406Z",
     "start_time": "2024-02-23T00:47:54.827061Z"
    }
   },
   "outputs": [],
   "source": [
    "resampLogisticDF.head(10000)"
   ]
  },
  {
   "cell_type": "code",
   "execution_count": null,
   "id": "73c50561",
   "metadata": {
    "ExecuteTime": {
     "end_time": "2024-03-21T21:58:09.302264Z",
     "start_time": "2024-03-21T21:58:09.289721Z"
    }
   },
   "outputs": [],
   "source": [
    "resampLogisticDF.to_csv(dirLoc+'/bootstrapBestLogistic.csv')"
   ]
  },
  {
   "cell_type": "markdown",
   "id": "0f7b1c6a",
   "metadata": {},
   "source": [
    "### Coefficient Histograms and Boxplots"
   ]
  },
  {
   "cell_type": "code",
   "execution_count": null,
   "id": "57ba945f",
   "metadata": {
    "ExecuteTime": {
     "end_time": "2024-03-29T21:37:03.291259Z",
     "start_time": "2024-03-29T21:37:03.205150Z"
    }
   },
   "outputs": [],
   "source": [
    "resampLogisticDF = pd.read_csv(dirLoc+'/bootstrapBestLogistic.csv')"
   ]
  },
  {
   "cell_type": "code",
   "execution_count": null,
   "id": "13610cb5",
   "metadata": {
    "ExecuteTime": {
     "end_time": "2024-02-23T01:07:16.929586Z",
     "start_time": "2024-02-23T01:05:51.198603Z"
    },
    "scrolled": true
   },
   "outputs": [],
   "source": [
    "for col in resampLogisticDF.columns:\n",
    "    print(col)\n",
    "    fig = px.histogram(resampLogisticDF,\n",
    "                       x=col,\n",
    "                       marginal='box')\n",
    "    fig.write_html(dirLoc+'/coef_histogram_boxplots/'+col.replace('&','+')+'.html')\n",
    "    fig.write_image(dirLoc+'/coef_histogram_boxplots/'+col.replace('&','+')+'.png',\n",
    "                    width=2000,\n",
    "                    height=1000)\n",
    "    fig.show()"
   ]
  },
  {
   "cell_type": "markdown",
   "id": "7b57eedd",
   "metadata": {},
   "source": [
    "### Q-Q Plots (Normal Distributions)"
   ]
  },
  {
   "cell_type": "code",
   "execution_count": null,
   "id": "aacaa827",
   "metadata": {
    "ExecuteTime": {
     "end_time": "2024-03-12T03:36:43.588956Z",
     "start_time": "2024-03-12T03:33:11.806377Z"
    }
   },
   "outputs": [],
   "source": [
    "dist = stats.norm\n",
    "\n",
    "normFitDF = pd.DataFrame()\n",
    "row = 0\n",
    "for col in resampLogisticDF.columns:\n",
    "    print(col)\n",
    "    normFitDF.at[row,'col'] = col\n",
    "    \n",
    "    data = resampLogisticDF[col]\n",
    "    results = stats.fit(dist,\n",
    "                        data)\n",
    "    \n",
    "    normFitDF.at[row,'success'] = results.success\n",
    "    normFitDF.at[row,'mu'] = results.params.loc\n",
    "    normFitDF.at[row,'sigma'] = results.params.scale\n",
    "    \n",
    "    mpl_fig = plt.figure()\n",
    "    ax = results.plot(plot_type='qq')\n",
    "    tempFig = tls.mpl_to_plotly(mpl_fig)\n",
    "    \n",
    "    xList = tempFig.data[0].x\n",
    "    yList = tempFig.data[0].y\n",
    "    \n",
    "    tempDF = pd.DataFrame({r'$\\texttt{Theoretical Normal Quantiles}$':xList,\n",
    "                           'Data Quantiles':yList})\n",
    "    plotlyFig = px.scatter(tempDF,\n",
    "                           x=r'$\\texttt{Theoretical Normal Quantiles}$',\n",
    "                           y='Data Quantiles',\n",
    "                           trendline='ols',\n",
    "                           title='Q-Q Plot of '+col.replace('&',', '))\n",
    "    plotlyFig.data[0].showlegend = True\n",
    "    plotlyFig.data[1].showlegend = True\n",
    "    plotlyFig.data[0].name = tempFig.data[0].name\n",
    "    plotlyFig.data[1].name = 'Trend Line'\n",
    "    \n",
    "    plotlyFig.add_trace(tempFig.data[1])\n",
    "    plotlyFig.update_layout(width=1000,\n",
    "                            height=930)\n",
    "    \n",
    "    plotlyFig.write_html(dirLoc+'/prob_norm_fit_QQ-plots/qqPlot-'+col.replace('&','+')+'.html')\n",
    "    plotlyFig.write_image(dirLoc+'/prob_norm_fit_QQ-plots/qqPlot-'+col.replace('&','+')+'.png')\n",
    "          \n",
    "    trendFit = px.get_trendline_results(plotlyFig)\n",
    "    \n",
    "    trendFitData = trendFit.at[0,'px_fit_results']\n",
    "    summary = trendFitData.summary()\n",
    "    print(summary)\n",
    "    normFitDF.at[row,'summary'] = summary.as_latex()\n",
    "    \n",
    "    normFitDF.at[row,'AIC'] = trendFitData.aic\n",
    "    normFitDF.at[row,'BIC'] = trendFitData.bic\n",
    "    normFitDF.at[row,'const. std err'] = trendFitData.bse[0]\n",
    "    normFitDF.at[row,'x1 std err'] = trendFitData.bse[1]\n",
    "    normFitDF.at[row,'const'] = trendFitData.params[0]\n",
    "    normFitDF.at[row,'x1'] = trendFitData.params[1]\n",
    "    normFitDF.at[row,'const (p-value)'] = trendFitData.pvalues[0]\n",
    "    normFitDF.at[row,'x1 (p-value)'] = trendFitData.pvalues[1]\n",
    "    normFitDF.at[row,'const (lb)'] = trendFitData.conf_int()[0][0]\n",
    "    normFitDF.at[row,'const (ub)'] = trendFitData.conf_int()[0][1]\n",
    "    normFitDF.at[row,'x1 (lb)'] = trendFitData.conf_int()[1][0]\n",
    "    normFitDF.at[row,'x1 (ub)'] = trendFitData.conf_int()[1][1]\n",
    "    normFitDF.at[row,'cov type'] = trendFitData.cov_type\n",
    "    normFitDF.at[row,'model DF'] = trendFitData.df_model\n",
    "    normFitDF.at[row,'resid. DF'] = trendFitData.df_resid\n",
    "    normFitDF.at[row,'model MSE'] = trendFitData.mse_model\n",
    "    normFitDF.at[row,'resid. MSE'] = trendFitData.mse_resid\n",
    "    normFitDF.at[row,'total MSE'] = trendFitData.mse_total\n",
    "    normFitDF.at[row,'R^2'] = trendFitData.rsquared\n",
    "    normFitDF.at[row,'adj. R^2'] = trendFitData.rsquared_adj\n",
    "    \n",
    "    row += 1\n",
    "    plotlyFig.show()"
   ]
  },
  {
   "cell_type": "code",
   "execution_count": null,
   "id": "ece9055e",
   "metadata": {
    "ExecuteTime": {
     "end_time": "2024-03-12T03:37:27.946582Z",
     "start_time": "2024-03-12T03:37:27.899750Z"
    }
   },
   "outputs": [],
   "source": [
    "normFitDF.to_csv(dirLoc+'/probNormFits.csv',\n",
    "                 index=False)\n",
    "normFitDF.head(1000)"
   ]
  },
  {
   "cell_type": "markdown",
   "id": "ed245384",
   "metadata": {},
   "source": [
    "### Calculate Confidence Intervals and Mean Coefficients"
   ]
  },
  {
   "cell_type": "code",
   "execution_count": null,
   "id": "30548714",
   "metadata": {
    "ExecuteTime": {
     "end_time": "2024-03-12T03:38:44.807248Z",
     "start_time": "2024-03-12T03:38:35.985924Z"
    }
   },
   "outputs": [],
   "source": [
    "n = 1000\n",
    "bestPenalty = None\n",
    "bestSolver = 'lbfgs'\n",
    "maxIter = 10000\n",
    "\n",
    "y = corrLogisticDF.loc[:,'corrInt']\n",
    "X = corrLogisticDF.loc[:,corrLogisticDF.columns != 'corrInt']\n",
    "clf = LogisticRegression(solver=bestSolver,\n",
    "                         max_iter=maxIter,\n",
    "                         penalty=bestPenalty).fit(X, y)\n",
    "print(clf.get_params())\n",
    "\n",
    "finalLogisticDF = pd.DataFrame({'var':X.columns,'coef':list(clf.coef_[0])})    \n",
    "lastRow = len(finalLogisticDF)\n",
    "finalLogisticDF.at[lastRow,'var'] = 'intercept'\n",
    "finalLogisticDF.at[lastRow,'coef'] = clf.intercept_\n",
    "finalLogisticDF = finalLogisticDF.T\n",
    "finalLogisticDF.columns = finalLogisticDF.iloc[0]\n",
    "finalLogisticDF = finalLogisticDF.drop(finalLogisticDF.index[0])\n",
    "\n",
    "finalLogisticDF"
   ]
  },
  {
   "cell_type": "code",
   "execution_count": null,
   "id": "e1f1d12d",
   "metadata": {
    "ExecuteTime": {
     "end_time": "2024-03-12T04:22:15.791306Z",
     "start_time": "2024-03-12T04:22:10.681322Z"
    },
    "scrolled": true
   },
   "outputs": [],
   "source": [
    "upperLim = 100000\n",
    "\n",
    "row = 0\n",
    "coefAnalysisDF = pd.DataFrame()\n",
    "for col in resampLogisticDF.columns:\n",
    "    if col != 'Unnamed: 0':\n",
    "        coefVal = finalLogisticDF.at['coef',col]\n",
    "        meanCoefVal = sum(resampLogisticDF[col])/len(resampLogisticDF[col])\n",
    "        \n",
    "        stat, pVal = stats.normaltest(resampLogisticDF[col])\n",
    "        stat_jb, pVal_jb = stats.jarque_bera(resampLogisticDF[col])\n",
    "        stat_shapiro, pVal_shapiro = stats.shapiro(resampLogisticDF[col])\n",
    "        andResults = stats.anderson(resampLogisticDF[col],'norm')\n",
    "        cvmResults = stats.cramervonmises(resampLogisticDF[col],'norm')\n",
    "        print(col)\n",
    "        print(pVal, pVal_jb, pVal_shapiro, andResults, cvmResults)\n",
    "        if (pVal <= 0.05)&(pVal_jb <= 0.05)&(pVal_shapiro <= 0.05)&(andResults.statistic > andResults.critical_values[2])&(cvmResults.pvalue <= 0.05):\n",
    "            normBool = False\n",
    "            \n",
    "            ecdfResult = stats.ecdf(resampLogisticDF[col])\n",
    "            meanCoefCDF_hat = ecdfResult.cdf.evaluate(meanCoefVal)\n",
    "            cdf_hat = ecdfResult.cdf.evaluate(coefVal)\n",
    "            zeroCDF_hat = ecdfResult.cdf.evaluate(0)\n",
    "            pVal_hat = 2*min(zeroCDF_hat,1-zeroCDF_hat)\n",
    "            LB_hat = max(ecdfResult.cdf.quantiles[ecdfResult.cdf.probabilities <= 0.025])\n",
    "            UB_hat = min(ecdfResult.cdf.quantiles[ecdfResult.cdf.probabilities >= 0.975])\n",
    "            fail2RejectBool = (LB_hat <= 0)&(UB_hat >= 0)\n",
    "        else:\n",
    "            normBool = True\n",
    "            \n",
    "            tFit = stats.fit(stats.t,\n",
    "                             resampLogisticDF[col],\n",
    "                             bounds=[(0,upperLim)])\n",
    "            \n",
    "            cdf_hat = stats.t.cdf(coefVal,\n",
    "                                  df=tFit.params.df,\n",
    "                                  loc=tFit.params.loc,\n",
    "                                  scale=tFit.params.scale)\n",
    "            meanCoefCDF_hat = stats.t.cdf(meanCoefVal,\n",
    "                                          df=tFit.params.df,\n",
    "                                          loc=tFit.params.loc,\n",
    "                                          scale=tFit.params.scale)\n",
    "            zeroCDF_hat = stats.t.cdf(0,\n",
    "                                      df=tFit.params.df,\n",
    "                                      loc=tFit.params.loc,\n",
    "                                      scale=tFit.params.scale)\n",
    "            \n",
    "            tTestResults = stats.ttest_1samp(resampLogisticDF[col],\n",
    "                                             popmean=0)\n",
    "            pVal_hat = tTestResults.pvalue\n",
    "            conInt = tTestResults.confidence_interval()\n",
    "            LB_hat = conInt.low\n",
    "            UB_hat = conInt.high\n",
    "            fail2RejectBool = (LB_hat <= 0)&(UB_hat >= 0)\n",
    "        \n",
    "        print(coefVal,meanCoefVal,cdf_hat,meanCoefCDF_hat,LB_hat,UB_hat)\n",
    "            \n",
    "        coefAnalysisDF.at[row,'colName'] = col\n",
    "        coefAnalysisDF.at[row,'coefVal'] = coefVal\n",
    "        coefAnalysisDF.at[row,'meanCoefVal'] = meanCoefVal\n",
    "        coefAnalysisDF.at[row,'cdf_hat'] = cdf_hat\n",
    "        coefAnalysisDF.at[row,'zeroCDF_hat'] = zeroCDF_hat\n",
    "        coefAnalysisDF.at[row,'p-value_hat'] = pVal_hat\n",
    "        coefAnalysisDF.at[row,'meanCoefCDF_hat'] = meanCoefCDF_hat\n",
    "        coefAnalysisDF.at[row,'LB_hat (<= 0.025)'] = LB_hat\n",
    "        coefAnalysisDF.at[row,'UB_hat (>= 0.975)'] = UB_hat\n",
    "        coefAnalysisDF.at[row,'normal?'] = normBool\n",
    "        coefAnalysisDF.at[row,'failToReject'] = fail2RejectBool\n",
    "        \n",
    "        row += 1"
   ]
  },
  {
   "cell_type": "code",
   "execution_count": null,
   "id": "ba91f722",
   "metadata": {
    "ExecuteTime": {
     "end_time": "2024-03-12T04:22:30.374161Z",
     "start_time": "2024-03-12T04:22:30.364023Z"
    }
   },
   "outputs": [],
   "source": [
    "coefAnalysisDF.head(1000)"
   ]
  },
  {
   "cell_type": "code",
   "execution_count": null,
   "id": "1f4e6f56",
   "metadata": {
    "ExecuteTime": {
     "end_time": "2024-03-12T04:22:37.329462Z",
     "start_time": "2024-03-12T04:22:37.326912Z"
    }
   },
   "outputs": [],
   "source": [
    "sum(coefAnalysisDF['normal?'])"
   ]
  },
  {
   "cell_type": "code",
   "execution_count": null,
   "id": "29572c22",
   "metadata": {
    "ExecuteTime": {
     "end_time": "2024-03-12T06:09:32.041296Z",
     "start_time": "2024-03-12T06:09:32.031318Z"
    }
   },
   "outputs": [],
   "source": [
    "coefAnalysisDF.to_csv(dirLoc+'/coefAnalysis.csv',\n",
    "                      index=False)"
   ]
  },
  {
   "cell_type": "code",
   "execution_count": null,
   "id": "ea720852",
   "metadata": {
    "ExecuteTime": {
     "end_time": "2024-03-26T21:41:00.378321Z",
     "start_time": "2024-03-26T21:41:00.370561Z"
    }
   },
   "outputs": [],
   "source": [
    "coefAnalysisDF = pd.read_csv(dirLoc+'/coefAnalysis.csv')"
   ]
  },
  {
   "cell_type": "markdown",
   "id": "ac34ee77",
   "metadata": {
    "ExecuteTime": {
     "end_time": "2024-03-12T06:09:44.008376Z",
     "start_time": "2024-03-12T06:09:43.997506Z"
    }
   },
   "source": [
    "#### Non-parametric Wilcoxon signed ranked test"
   ]
  },
  {
   "cell_type": "code",
   "execution_count": null,
   "id": "d4c7f52f",
   "metadata": {
    "ExecuteTime": {
     "end_time": "2024-03-16T06:23:28.634020Z",
     "start_time": "2024-03-16T06:23:28.143803Z"
    }
   },
   "outputs": [],
   "source": [
    "coefNonParamDF = pd.DataFrame()\n",
    "row = 0\n",
    "for col in resampLogisticDF.columns:\n",
    "    if col != 'Unnamed: 0':\n",
    "        results = stats.wilcoxon(resampLogisticDF[col],\n",
    "                                 alternative='two-sided')\n",
    "        \n",
    "        coefNonParamDF.at[row,'col'] = col\n",
    "        coefNonParamDF.at[row,'statistic'] = results.statistic\n",
    "        coefNonParamDF.at[row,'p-value'] = results.pvalue\n",
    "        \n",
    "        row += 1"
   ]
  },
  {
   "cell_type": "code",
   "execution_count": null,
   "id": "2ef4c62d",
   "metadata": {
    "ExecuteTime": {
     "end_time": "2024-03-16T06:23:30.872212Z",
     "start_time": "2024-03-16T06:23:30.863074Z"
    }
   },
   "outputs": [],
   "source": [
    "coefNonParamDF.to_csv(dirLoc+'/coefNonParam.csv',\n",
    "                      index=False)\n",
    "coefNonParamDF.head(1000)"
   ]
  },
  {
   "cell_type": "markdown",
   "id": "94c5a4ae",
   "metadata": {},
   "source": [
    "### Ridge Plots of Coefficients (Vis. Present Only)"
   ]
  },
  {
   "cell_type": "code",
   "execution_count": null,
   "id": "a16f3daf",
   "metadata": {
    "ExecuteTime": {
     "end_time": "2024-03-29T21:37:08.333833Z",
     "start_time": "2024-03-29T21:37:08.233372Z"
    },
    "code_folding": [
     0,
     12,
     20,
     28,
     56
    ]
   },
   "outputs": [],
   "source": [
    "chartList = ['Line_Chart',\n",
    "             'Bar_Chart',\n",
    "             'Stacked_Bar_Chart',\n",
    "             'OneHundred_Stacked_Bar_Chart',\n",
    "             'Pie_Chart',\n",
    "             'Histogram',\n",
    "             'Scatterplot',\n",
    "             'Bubble_Chart',\n",
    "             'Area_Chart',\n",
    "             'Stacked_Area_Chart',\n",
    "             'Choropleth_Map',\n",
    "             'Treemap']\n",
    "taskList = ['retrieve_value',\n",
    "            'find_extremum',\n",
    "            'determine_range',\n",
    "            'find_correlations_trends',\n",
    "            'make_comparisons',\n",
    "            'find_anomalies',\n",
    "            'find_clusters',\n",
    "            'identify_the_hierarchical_structure']\n",
    "genDict = {'viz':{'ChatGPT':'',\n",
    "                  'Gemini':'',\n",
    "                  'Both':''},\n",
    "           'noViz':{'ChatGPT':'',\n",
    "                    'Gemini':'',\n",
    "                    'Both':''},\n",
    "           'both':{'ChatGPT':'',\n",
    "                   'Gemini':''}}\n",
    "varDict = {'viz':{'ChatGPT':{'chart':{},\n",
    "                             'task':{},\n",
    "                             'interact':{}},\n",
    "                  'Gemini':{'chart':{},\n",
    "                            'task':{},\n",
    "                            'interact':{}},\n",
    "                  'Both':{'chart':{},\n",
    "                          'task':{},\n",
    "                          'interact':{}}},\n",
    "           'noViz':{'ChatGPT':{'chart':{},\n",
    "                               'task':{},\n",
    "                               'interact':{}},\n",
    "                    'Gemini':{'chart':{},\n",
    "                              'task':{},\n",
    "                              'interact':{}},\n",
    "                    'Both':{'chart':{},\n",
    "                            'task':{},\n",
    "                            'interact':{}}},\n",
    "           'both':{'ChatGPT':{'chart':{},\n",
    "                              'task':{},\n",
    "                              'interact':{}},\n",
    "                   'Gemini':{'chart':{},\n",
    "                             'task':{},\n",
    "                             'interact':{}},\n",
    "                   'Both':{'chart':{},\n",
    "                            'task':{},\n",
    "                            'interact':{}}}}\n",
    "chartTaskDict = {}\n",
    "for col in resampLogisticDF.columns:\n",
    "    if col != 'Unnamed: 0':\n",
    "        varList = col.split('&')\n",
    "        print(col,varList)\n",
    "        if 'reVLAT_VizChoices' in varList:\n",
    "            vizKey = 'viz'\n",
    "            varList.remove('reVLAT_VizChoices')\n",
    "        elif 'reVLAT_NoVizChoices' in varList:\n",
    "            vizKey = 'noViz'\n",
    "            varList.remove('reVLAT_NoVizChoices')\n",
    "        else:\n",
    "            vizKey = 'both'\n",
    "        \n",
    "        if 'ChatGPT' in varList:\n",
    "            llmKey = 'ChatGPT'\n",
    "            varList.remove('ChatGPT')\n",
    "        elif 'Gemini' in varList:\n",
    "            llmKey = 'Gemini'\n",
    "            varList.remove('Gemini')\n",
    "        else:\n",
    "            llmKey = 'Both'\n",
    "        \n",
    "        if len(varList) == 2:\n",
    "            chartTaskKey = 'interact'\n",
    "            for varVal in varList:\n",
    "                if varVal in chartList:\n",
    "                    chartKey = varVal\n",
    "\n",
    "                if varVal in taskList:\n",
    "                    taskKey = varVal\n",
    "            \n",
    "            if chartKey in varDict[vizKey][llmKey][chartTaskKey].keys():\n",
    "                varDict[vizKey][llmKey][chartTaskKey][chartKey][taskKey] = col\n",
    "            else:\n",
    "                varDict[vizKey][llmKey][chartTaskKey][chartKey] = {taskKey:col}\n",
    "            \n",
    "            if chartKey in chartTaskDict.keys():\n",
    "                if taskKey not in chartTaskDict[chartKey]:\n",
    "                    chartTaskDict[chartKey].append(taskKey)\n",
    "            else:\n",
    "                chartTaskDict[chartKey] = [taskKey]\n",
    "        elif len(varList) == 1:\n",
    "            if varList[0] in chartList:\n",
    "                chartTaskKey = 'chart'\n",
    "                chartKey = varList[0]\n",
    "                \n",
    "                varDict[vizKey][llmKey][chartTaskKey][chartKey] = col\n",
    "            elif varList[0] in taskList:\n",
    "                chartTaskKey = 'task'\n",
    "                taskKey = varList[0]\n",
    "                \n",
    "                varDict[vizKey][llmKey][chartTaskKey][taskKey] = col\n",
    "        else:\n",
    "            genDict[vizKey][llmKey] = col"
   ]
  },
  {
   "cell_type": "markdown",
   "id": "8e5a01ea",
   "metadata": {},
   "source": [
    "#### General Coefficient Plot (LLM Rows)"
   ]
  },
  {
   "cell_type": "code",
   "execution_count": null,
   "id": "105a730d",
   "metadata": {
    "ExecuteTime": {
     "end_time": "2024-03-29T21:42:54.120627Z",
     "start_time": "2024-03-29T21:42:53.838669Z"
    }
   },
   "outputs": [],
   "source": [
    "opacity = 0.7\n",
    "sampleList = []\n",
    "labelList = []\n",
    "llmList = ['ChatGPT','Gemini','Both']\n",
    "for llmKey in llmList:\n",
    "    if llmKey == 'ChatGPT':\n",
    "        labelList.append('GPT-4')\n",
    "    else:\n",
    "        labelList.append(llmKey)\n",
    "    if 'Both' != llmKey:\n",
    "        sampleList.append([resampLogisticDF[genDict['viz'][llmKey]],\n",
    "                           resampLogisticDF[genDict['noViz'][llmKey]],\n",
    "                           resampLogisticDF[genDict['both'][llmKey]]])\n",
    "    else:\n",
    "        sampleList.append([resampLogisticDF[genDict['viz'][llmKey]],\n",
    "                           resampLogisticDF[genDict['noViz'][llmKey]],\n",
    "                           resampLogisticDF['intercept']])\n",
    "\n",
    "fig = ridgeplot(samples=sampleList,\n",
    "                colormode='row-index',\n",
    "                labels=labelList)\n",
    "i = 0\n",
    "for trace in fig.data:\n",
    "    if i%6 == 1:\n",
    "        fig.data[i].fillcolor = 'rgba(0,110,144,'+str(opacity)+')'#'rgba(255,198,39,'+str(opacity)+')'\n",
    "        fig.data[i].name = 'Viz'\n",
    "        fig.data[i].legendgroup = '1'\n",
    "    elif i%6 == 3:\n",
    "        fig.data[i].fillcolor = 'rgba(241,143,1,'+str(opacity)+')'#'rgba(140,29,64,'+str(opacity)+')'\n",
    "        fig.data[i].name = 'No Viz'\n",
    "        fig.data[i].legendgroup = '2'\n",
    "    elif i%6 == 5:\n",
    "        fig.data[i].fillcolor = 'rgba(116,116,116,'+str(opacity)+')'\n",
    "        fig.data[i].name = 'Intercept'\n",
    "        fig.data[i].legendgroup = '3'\n",
    "    \n",
    "    if i > 6:\n",
    "        fig.data[i].showlegend = False        \n",
    "    \n",
    "    i += 1\n",
    "\n",
    "fig.update_layout(title='<b>Distribution of General Coefficients</b>',\n",
    "                  height=1000,\n",
    "                  width=2000,\n",
    "                  font_size=26,\n",
    "                  xaxis_title='Coefficient Values',\n",
    "                  yaxis_title='LLM Model')\n",
    "fig.show()"
   ]
  },
  {
   "cell_type": "code",
   "execution_count": null,
   "id": "cea3ddc3",
   "metadata": {
    "ExecuteTime": {
     "end_time": "2024-03-29T21:42:57.132250Z",
     "start_time": "2024-03-29T21:42:56.800304Z"
    }
   },
   "outputs": [],
   "source": [
    "fig.write_html(dirLoc+'/coefRidgePlots/ridgePlot_genCoefLLM.html')\n",
    "fig.write_image(dirLoc+'/coefRidgePlots/ridgePlot_genCoefLLM.png')\n",
    "fig.write_image(dirLoc+'/coefRidgePlots/ridgePlot_genCoefLLM.pdf')"
   ]
  },
  {
   "cell_type": "markdown",
   "id": "55f04c12",
   "metadata": {},
   "source": [
    "#### General Coefficient Plot (Viz Presence Rows)"
   ]
  },
  {
   "cell_type": "code",
   "execution_count": null,
   "id": "a94a0a49",
   "metadata": {
    "ExecuteTime": {
     "end_time": "2024-03-29T21:43:00.578739Z",
     "start_time": "2024-03-29T21:43:00.357585Z"
    }
   },
   "outputs": [],
   "source": [
    "opacity = 0.7\n",
    "sampleList = []\n",
    "labelList = []\n",
    "vizList = ['viz','noViz','both']\n",
    "for vizKey in vizList:\n",
    "    if vizKey != 'both':\n",
    "        labelList.append(vizKey)\n",
    "    else:\n",
    "        labelList.append('intercept')\n",
    "    if 'both' != vizKey:\n",
    "        sampleList.append([resampLogisticDF[genDict[vizKey]['ChatGPT']],\n",
    "                           resampLogisticDF[genDict[vizKey]['Gemini']],\n",
    "                           resampLogisticDF[genDict[vizKey]['Both']]])\n",
    "    else:\n",
    "        sampleList.append([resampLogisticDF[genDict[vizKey]['ChatGPT']],\n",
    "                           resampLogisticDF[genDict[vizKey]['Gemini']],\n",
    "                           resampLogisticDF['intercept']])\n",
    "\n",
    "fig = ridgeplot(samples=sampleList,\n",
    "                colormode='row-index',\n",
    "                labels=labelList)\n",
    "i = 0\n",
    "for trace in fig.data:\n",
    "    if i%6 == 1:\n",
    "        fig.data[i].fillcolor = 'rgba(0,110,144,'+str(opacity)+')'#'rgba(255,198,39,'+str(opacity)+')'\n",
    "        fig.data[i].name = 'GPT-4'#'ChatGPT'\n",
    "        fig.data[i].legendgroup = '1'\n",
    "    elif i%6 == 3:\n",
    "        fig.data[i].fillcolor = 'rgba(241,143,1,'+str(opacity)+')'#'rgba(140,29,64,'+str(opacity)+')'\n",
    "        fig.data[i].name = 'Gemini'\n",
    "        fig.data[i].legendgroup = '2'\n",
    "    elif i%6 == 5:\n",
    "        fig.data[i].fillcolor = 'rgba(116,116,116,'+str(opacity)+')'\n",
    "        fig.data[i].name = 'Both'\n",
    "        fig.data[i].legendgroup = '3'\n",
    "    \n",
    "    if i > 6:\n",
    "        fig.data[i].showlegend = False\n",
    "    \n",
    "    i += 1\n",
    "\n",
    "#fig.update_layout(title='<b>Distribution of General Coefficients</b>',\n",
    "#                  height=1000,\n",
    "#                  width=2000,\n",
    "#                  font_size=26,\n",
    "#                  xaxis_title='Coefficient Values',\n",
    "#                  yaxis_title='Visualization Presence')\n",
    "fig.update_layout(height=1000,\n",
    "                  width=2000,\n",
    "                  font_size=26,\n",
    "                  margin={'t':0},\n",
    "                  xaxis_title='Coefficient Values',\n",
    "                  yaxis_title='Visualization Presence')\n",
    "fig.show()"
   ]
  },
  {
   "cell_type": "code",
   "execution_count": null,
   "id": "126dafdc",
   "metadata": {
    "ExecuteTime": {
     "end_time": "2024-03-29T21:43:03.618640Z",
     "start_time": "2024-03-29T21:43:03.344281Z"
    }
   },
   "outputs": [],
   "source": [
    "#fig.write_html(dirLoc+'/coefRidgePlots/ridgePlot_genCoefViz.html')\n",
    "#fig.write_image(dirLoc+'/coefRidgePlots/ridgePlot_genCoefViz.png')\n",
    "fig.write_html(dirLoc+'/coefRidgePlots/ridgePlot_genCoefViz_paper.html')\n",
    "fig.write_image(dirLoc+'/coefRidgePlots/ridgePlot_genCoefViz_paper.png')\n",
    "fig.write_image(dirLoc+'/coefRidgePlots/ridgePlot_genCoefViz_paper.pdf')"
   ]
  },
  {
   "cell_type": "markdown",
   "id": "4a549d03",
   "metadata": {},
   "source": [
    "#### Chart Coefficient Plot (Viz Present Only)"
   ]
  },
  {
   "cell_type": "code",
   "execution_count": null,
   "id": "d47ed483",
   "metadata": {
    "ExecuteTime": {
     "end_time": "2024-03-29T21:43:06.285057Z",
     "start_time": "2024-03-29T21:43:05.904219Z"
    }
   },
   "outputs": [],
   "source": [
    "opacity = 0.7\n",
    "sampleList = []\n",
    "labelList = []\n",
    "for chartKey in chartList:\n",
    "    if 'OneHundred' not in chartKey:\n",
    "        labelList.append(chartKey.replace('_',' '))\n",
    "    else:\n",
    "        labelList.append('100% Stacked Bar Chart')\n",
    "\n",
    "    chatGPTCol = varDict['viz']['ChatGPT']['chart'][chartKey]\n",
    "    geminiCol = varDict['viz']['Gemini']['chart'][chartKey]\n",
    "    sampleList.append([resampLogisticDF[chatGPTCol],\n",
    "                       resampLogisticDF[geminiCol]])\n",
    "\n",
    "fig = ridgeplot(samples=sampleList,\n",
    "                colormode='row-index',\n",
    "                labels=labelList)\n",
    "i = 0\n",
    "for trace in fig.data:\n",
    "    if i%4 == 1:\n",
    "        fig.data[i].fillcolor = 'rgba(0,110,144,'+str(opacity)+')'#'rgba(255,198,39,'+str(opacity)+')'\n",
    "        fig.data[i].name = 'GPT-4'#'ChatGPT'\n",
    "        fig.data[i].legendgroup = '1'\n",
    "    elif i%4 == 3:\n",
    "        fig.data[i].fillcolor = 'rgba(241,143,1,'+str(opacity)+')'#'rgba(140,29,64,'+str(opacity)+')'\n",
    "        fig.data[i].name = 'Gemini'\n",
    "        fig.data[i].legendgroup = '2'\n",
    "    \n",
    "    if i > 4:\n",
    "        fig.data[i].showlegend = False\n",
    "    \n",
    "    i += 1\n",
    "\n",
    "#fig.update_layout(title='<b>Distribution of Chart Coefficients</b> (Visualization Present)',\n",
    "#                  height=1000,\n",
    "#                  width=2000,\n",
    "#                  font_size=26,\n",
    "#                  xaxis_title='Coefficient Values',\n",
    "#                  yaxis_title='Visualization Type')\n",
    "fig.update_layout(height=1000,\n",
    "                  width=2000,\n",
    "                  margin={'t':0},\n",
    "                  font_size=26,\n",
    "                  xaxis_title='Coefficient Values')\n",
    "fig.show()"
   ]
  },
  {
   "cell_type": "code",
   "execution_count": null,
   "id": "6994ebd5",
   "metadata": {
    "ExecuteTime": {
     "end_time": "2024-03-29T21:43:10.230029Z",
     "start_time": "2024-03-29T21:43:09.286086Z"
    }
   },
   "outputs": [],
   "source": [
    "#fig.write_html(dirLoc+'/coefRidgePlots/ridgePlot_chartCoef.html')\n",
    "#fig.write_image(dirLoc+'/coefRidgePlots/ridgePlot_chartCoef.png')\n",
    "fig.write_html(dirLoc+'/coefRidgePlots/ridgePlot_chartCoef_paper.html')\n",
    "fig.write_image(dirLoc+'/coefRidgePlots/ridgePlot_chartCoef_paper.png')\n",
    "fig.write_image(dirLoc+'/coefRidgePlots/ridgePlot_chartCoef_paper.svg')\n",
    "fig.write_image(dirLoc+'/coefRidgePlots/ridgePlot_chartCoef_paper.pdf')"
   ]
  },
  {
   "cell_type": "markdown",
   "id": "b2295a64",
   "metadata": {},
   "source": [
    "#### Task Coefficient Plot (Viz Present Only)"
   ]
  },
  {
   "cell_type": "code",
   "execution_count": null,
   "id": "73073c6d",
   "metadata": {
    "ExecuteTime": {
     "end_time": "2024-03-29T21:43:12.491190Z",
     "start_time": "2024-03-29T21:43:12.166176Z"
    }
   },
   "outputs": [],
   "source": [
    "opacity = 0.7\n",
    "sampleList = []\n",
    "labelList = []\n",
    "for task in taskList:\n",
    "    if 'identify' not in task:\n",
    "        labelList.append(task.replace('_',' ').title())\n",
    "    else:\n",
    "        labelList.append('Identify the<br>Hierarchical Structure')\n",
    "\n",
    "    chatGPTCol = varDict['viz']['ChatGPT']['task'][task]\n",
    "    geminiCol = varDict['viz']['Gemini']['task'][task]\n",
    "    sampleList.append([resampLogisticDF[chatGPTCol],\n",
    "                       resampLogisticDF[geminiCol]])\n",
    "\n",
    "fig = ridgeplot(samples=sampleList,\n",
    "                colormode='row-index',\n",
    "                labels=labelList)\n",
    "i = 0\n",
    "for trace in fig.data:\n",
    "    if i%4 == 1:\n",
    "        fig.data[i].fillcolor = 'rgba(0,110,144,'+str(opacity)+')'#'rgba(255,198,39,'+str(opacity)+')'\n",
    "        fig.data[i].name = 'GPT-4'#'ChatGPT'\n",
    "        fig.data[i].legendgroup = '1'\n",
    "    elif i%4 == 3:\n",
    "        fig.data[i].fillcolor = 'rgba(241,143,1,'+str(opacity)+')'#'rgba(140,29,64,'+str(opacity)+')'\n",
    "        fig.data[i].name = 'Gemini'\n",
    "        fig.data[i].legendgroup = '2'\n",
    "    \n",
    "    if i > 4:\n",
    "        fig.data[i].showlegend = False        \n",
    "    \n",
    "    i += 1\n",
    "\n",
    "#fig.update_layout(title='<b>Distribution of Task Coefficients</b> (Visualization Present)',\n",
    "#                  height=1000,\n",
    "#                  width=2000,\n",
    "#                  font_size=26,\n",
    "#                  xaxis_title='Coefficient Values',\n",
    "#                  yaxis_title='Task Type')\n",
    "fig.update_layout(height=1000,\n",
    "                  width=2000,\n",
    "                  margin={'t':0},\n",
    "                  font_size=26,\n",
    "                  xaxis_title='Coefficient Values')\n",
    "fig.show()"
   ]
  },
  {
   "cell_type": "code",
   "execution_count": null,
   "id": "893458b3",
   "metadata": {
    "ExecuteTime": {
     "end_time": "2024-03-29T21:43:15.994607Z",
     "start_time": "2024-03-29T21:43:15.346220Z"
    }
   },
   "outputs": [],
   "source": [
    "#fig.write_html(dirLoc+'/coefRidgePlots/ridgePlot_taskCoef.html')\n",
    "#fig.write_image(dirLoc+'/coefRidgePlots/ridgePlot_taskCoef.png')\n",
    "fig.write_html(dirLoc+'/coefRidgePlots/ridgePlot_taskCoef_paper.html')\n",
    "fig.write_image(dirLoc+'/coefRidgePlots/ridgePlot_taskCoef_paper.png')\n",
    "fig.write_image(dirLoc+'/coefRidgePlots/ridgePlot_taskCoef_paper.svg')\n",
    "fig.write_image(dirLoc+'/coefRidgePlots/ridgePlot_taskCoef_paper.pdf')"
   ]
  },
  {
   "cell_type": "markdown",
   "id": "3e380122",
   "metadata": {},
   "source": [
    "#### Chart/Task Coefficient Plot (Viz Present Only)"
   ]
  },
  {
   "cell_type": "code",
   "execution_count": null,
   "id": "f6aae8a4",
   "metadata": {
    "ExecuteTime": {
     "end_time": "2024-03-29T21:43:19.774109Z",
     "start_time": "2024-03-29T21:43:18.080762Z"
    },
    "scrolled": true
   },
   "outputs": [],
   "source": [
    "opacity = 0.7\n",
    "sampleList = []\n",
    "labelList = []\n",
    "for chartKey in chartTaskDict.keys():\n",
    "    for task in chartTaskDict[chartKey]:\n",
    "        if 'OneHundred' not in chartKey:\n",
    "            labelList.append(chartKey.replace('_',' ')+'<br>('+task.replace('_',' ')+')')\n",
    "        else:\n",
    "            labelList.append('100% Stacked Bar Chart'+'<br>('+task.replace('_',' ')+')')\n",
    "        \n",
    "        chatGPTCol = varDict['viz']['ChatGPT']['interact'][chartKey][task]\n",
    "        geminiCol = varDict['viz']['Gemini']['interact'][chartKey][task]\n",
    "        sampleList.append([resampLogisticDF[chatGPTCol],\n",
    "                           resampLogisticDF[geminiCol]])\n",
    "\n",
    "fig = ridgeplot(samples=sampleList,\n",
    "                colormode='row-index',\n",
    "                spacing=0.5,\n",
    "                labels=labelList)\n",
    "i = 0\n",
    "for trace in fig.data:\n",
    "    if i%4 == 1:\n",
    "        fig.data[i].fillcolor = 'rgba(0,110,144,'+str(opacity)+')'#'rgba(255,198,39,'+str(opacity)+')'\n",
    "        fig.data[i].name = 'GPT-4'#'ChatGPT'\n",
    "        fig.data[i].legendgroup = '1'\n",
    "    elif i%4 == 3:\n",
    "        fig.data[i].fillcolor = 'rgba(241,143,1,'+str(opacity)+')'#'rgba(140,29,64,'+str(opacity)+')'\n",
    "        fig.data[i].name = 'Gemini'\n",
    "        fig.data[i].legendgroup = '2'\n",
    "    \n",
    "    if i > 4:\n",
    "        fig.data[i].showlegend = False        \n",
    "    \n",
    "    i += 1\n",
    "\n",
    "fig.update_layout(title='<b>Distribution of Chart/Task Coefficients</b> (Visualization Present)',\n",
    "                  height=2000,\n",
    "                  width=800,\n",
    "                  xaxis_title='Coefficient Values',\n",
    "                  yaxis_title='Chart/Task Type')\n",
    "fig.show()"
   ]
  },
  {
   "cell_type": "code",
   "execution_count": null,
   "id": "8f98043f",
   "metadata": {
    "ExecuteTime": {
     "end_time": "2024-03-29T21:43:26.022854Z",
     "start_time": "2024-03-29T21:43:23.428587Z"
    }
   },
   "outputs": [],
   "source": [
    "fig.write_html(dirLoc+'/coefRidgePlots/ridgePlot_chartTaskCoef.html')\n",
    "fig.write_image(dirLoc+'/coefRidgePlots/ridgePlot_chartTaskCoef.png')\n",
    "fig.write_image(dirLoc+'/coefRidgePlots/ridgePlot_chartTaskCoef.pdf')"
   ]
  },
  {
   "cell_type": "code",
   "execution_count": null,
   "id": "fa935894",
   "metadata": {
    "ExecuteTime": {
     "end_time": "2024-03-29T21:43:30.538619Z",
     "start_time": "2024-03-29T21:43:26.606612Z"
    },
    "scrolled": true
   },
   "outputs": [],
   "source": [
    "opacity = 0.7\n",
    "sampleList = []\n",
    "labelList = []\n",
    "for chartKey in chartTaskDict.keys():\n",
    "    chartSampleList = []\n",
    "    chartLabelList = []\n",
    "    for task in chartTaskDict[chartKey]:\n",
    "        chartLabelList.append(task.replace('_',' ').title())\n",
    "        if 'OneHundred' not in chartKey:\n",
    "            labelList.append(chartKey.replace('_',' ')+' ('+task.replace('_',' ')+')')\n",
    "        else:\n",
    "            labelList.append('100% Stacked Bar Chart'+' ('+task.replace('_',' ')+')')\n",
    "        \n",
    "        chatGPTCol = varDict['viz']['ChatGPT']['interact'][chartKey][task]\n",
    "        geminiCol = varDict['viz']['Gemini']['interact'][chartKey][task]\n",
    "        sampleList.append([resampLogisticDF[chatGPTCol],\n",
    "                           resampLogisticDF[geminiCol]])\n",
    "        chartSampleList.append([resampLogisticDF[chatGPTCol],\n",
    "                                resampLogisticDF[geminiCol]])\n",
    "        \n",
    "    fig = ridgeplot(samples=chartSampleList,\n",
    "                    colormode='row-index',\n",
    "                    labels=chartLabelList)\n",
    "    i = 0\n",
    "    for trace in fig.data:\n",
    "        if i%4 == 1:\n",
    "            fig.data[i].fillcolor = 'rgba(0,110,144,'+str(opacity)+')'#'rgba(255,198,39,'+str(opacity)+')'\n",
    "            fig.data[i].name = 'GPT-4'#'ChatGPT'\n",
    "            fig.data[i].legendgroup = '1'\n",
    "        elif i%4 == 3:\n",
    "            fig.data[i].fillcolor = 'rgba(241,143,1,'+str(opacity)+')'#'rgba(140,29,64,'+str(opacity)+')'\n",
    "            fig.data[i].name = 'Gemini'\n",
    "            fig.data[i].legendgroup = '2'\n",
    "\n",
    "        if i > 4:\n",
    "            fig.data[i].showlegend = False        \n",
    "\n",
    "        i += 1\n",
    "    fig.update_layout(title='<b>Distribution of '+chartKey.replace('_',' ')+' Coefficients</b> (Visualization Present)',\n",
    "                      height=1000,\n",
    "                      width=2000,\n",
    "                      font_size=26,\n",
    "                      xaxis_title='Coefficient Values',\n",
    "                      yaxis_title='Chart/Task Type')\n",
    "    fig.show()\n",
    "    \n",
    "    fig.write_html(dirLoc+'/coefRidgePlots/chartPlots/ridgePlot_'+chartKey+'_taskCoef.html')\n",
    "    fig.write_image(dirLoc+'/coefRidgePlots/chartPlots/ridgePlot_'+chartKey+'_taskCoef.png')"
   ]
  },
  {
   "cell_type": "markdown",
   "id": "61b2112d",
   "metadata": {},
   "source": [
    "### Probability Histograms and Boxplots"
   ]
  },
  {
   "cell_type": "code",
   "execution_count": null,
   "id": "b67164d6",
   "metadata": {
    "ExecuteTime": {
     "end_time": "2024-03-05T04:18:21.901496Z",
     "start_time": "2024-03-05T04:18:21.339191Z"
    }
   },
   "outputs": [],
   "source": [
    "fullVarDict = {}\n",
    "for col in resampLogisticDF.columns:\n",
    "    if len(col.split('&')) == 4:\n",
    "        fullVarDict[col] = col.split('&')\n",
    "\n",
    "print(len(fullVarDict.keys()))\n",
    "\n",
    "rejectNullList = []\n",
    "for col in coefAnalysisDF.loc[coefAnalysisDF['failToReject']==False,'colName']:\n",
    "    rejectNullList.append(col)\n",
    "\n",
    "#print(fail2RejectList)\n",
    "\n",
    "probDF = pd.DataFrame(index=resampLogisticDF.index,\n",
    "                      columns=fullVarDict.keys())\n",
    "probRejectNullDF = pd.DataFrame(index=resampLogisticDF.index)\n",
    "\n",
    "for fullVar in fullVarDict.keys():\n",
    "    varSet = set(fullVarDict[fullVar])\n",
    "    sumCols = ['intercept']\n",
    "    sumRejectNullCols = ['intercept']\n",
    "    \n",
    "    for col in resampLogisticDF.columns:\n",
    "        colSet = set(col.split('&'))\n",
    "        if bool(colSet.issubset(varSet)):\n",
    "            sumCols.append(col)\n",
    "            \n",
    "            if col in rejectNullList:\n",
    "                sumRejectNullCols.append(col)\n",
    "    \n",
    "    print(len(sumCols),len(sumRejectNullCols))\n",
    "    probDF[fullVar] = resampLogisticDF[sumCols].sum(axis=1)\n",
    "    probDF[fullVar] = probDF[fullVar].apply(lambda x:1/(1+math.exp(-x)))\n",
    "    \n",
    "    if fullVar in rejectNullList:\n",
    "        probRejectNullDF[fullVar] = resampLogisticDF[sumRejectNullCols].sum(axis=1)\n",
    "        probRejectNullDF[fullVar] = probRejectNullDF[fullVar].apply(lambda x:1/(1+math.exp(-x)))"
   ]
  },
  {
   "cell_type": "code",
   "execution_count": null,
   "id": "c35fa6f1",
   "metadata": {
    "ExecuteTime": {
     "end_time": "2024-03-05T04:18:38.870616Z",
     "start_time": "2024-03-05T04:18:38.691617Z"
    }
   },
   "outputs": [],
   "source": [
    "probDF.to_csv(dirLoc+'/probValues.csv',\n",
    "              index=False)\n",
    "probDF.head(10000)"
   ]
  },
  {
   "cell_type": "code",
   "execution_count": null,
   "id": "f1d4d399",
   "metadata": {
    "ExecuteTime": {
     "end_time": "2024-03-05T04:18:41.549812Z",
     "start_time": "2024-03-05T04:18:41.532167Z"
    }
   },
   "outputs": [],
   "source": [
    "probRejectNullDF.head(10000)"
   ]
  },
  {
   "cell_type": "code",
   "execution_count": null,
   "id": "cb649133",
   "metadata": {
    "ExecuteTime": {
     "end_time": "2024-02-27T08:50:46.997771Z",
     "start_time": "2024-02-27T08:50:21.453391Z"
    },
    "scrolled": true
   },
   "outputs": [],
   "source": [
    "for col in probDF.columns:\n",
    "    print(col)\n",
    "    fig = px.histogram(probDF,\n",
    "                       x=col,\n",
    "                       marginal='box')\n",
    "    fig.write_html(dirLoc+'/prob_histogram_boxplots/'+col.replace('&','+')+'.html')\n",
    "    fig.write_image(dirLoc+'/prob_histogram_boxplots/'+col.replace('&','+')+'.png',\n",
    "                    width=2000,\n",
    "                    height=1000)\n",
    "    fig.show()"
   ]
  },
  {
   "cell_type": "code",
   "execution_count": null,
   "id": "e2c24646",
   "metadata": {
    "ExecuteTime": {
     "end_time": "2024-02-27T08:52:44.687161Z",
     "start_time": "2024-02-27T08:52:39.429792Z"
    },
    "scrolled": true
   },
   "outputs": [],
   "source": [
    "for col in probRejectNullDF.columns:\n",
    "    print(col)\n",
    "    fig = px.histogram(probRejectNullDF,\n",
    "                       x=col,\n",
    "                       marginal='box')\n",
    "    fig.show()"
   ]
  },
  {
   "cell_type": "markdown",
   "id": "f150bdca",
   "metadata": {},
   "source": [
    "### Q-Q Plots (Beta Distributions)"
   ]
  },
  {
   "cell_type": "code",
   "execution_count": null,
   "id": "9cfa77b4",
   "metadata": {
    "ExecuteTime": {
     "end_time": "2024-03-05T10:24:24.534611Z",
     "start_time": "2024-03-05T10:23:04.899726Z"
    },
    "scrolled": true
   },
   "outputs": [],
   "source": [
    "upperLim = 100000\n",
    "dist = stats.beta\n",
    "\n",
    "betaFitDF = pd.DataFrame()\n",
    "row = 0\n",
    "for col in probDF.columns:\n",
    "    print(col)\n",
    "    betaFitDF.at[row,'col'] = col\n",
    "    \n",
    "    data = probDF[col]\n",
    "    bounds = [(0, upperLim), (0, upperLim)]\n",
    "    results = stats.fit(dist,\n",
    "                        data,\n",
    "                        bounds)\n",
    "    \n",
    "    betaFitDF.at[row,'success'] = results.success\n",
    "    betaFitDF.at[row,'a'] = results.params.a\n",
    "    betaFitDF.at[row,'b'] = results.params.b\n",
    "    \n",
    "    mpl_fig = plt.figure()\n",
    "    ax = results.plot(plot_type='qq')\n",
    "    tempFig = tls.mpl_to_plotly(mpl_fig)\n",
    "    \n",
    "    xList = tempFig.data[0].x\n",
    "    yList = tempFig.data[0].y\n",
    "    \n",
    "    tempDF = pd.DataFrame({r'$\\texttt{Theoretical Beta Quantiles}$':xList,\n",
    "                           'Data Quantiles':yList})\n",
    "    plotlyFig = px.scatter(tempDF,\n",
    "                           x=r'$\\texttt{Theoretical Beta Quantiles}$',\n",
    "                           y='Data Quantiles',\n",
    "                           trendline='ols',\n",
    "                           title='Q-Q Plot of '+col.replace('&',', '))\n",
    "    plotlyFig.data[0].showlegend = True\n",
    "    plotlyFig.data[1].showlegend = True\n",
    "    plotlyFig.data[0].name = tempFig.data[0].name\n",
    "    plotlyFig.data[1].name = 'Trend Line'\n",
    "    \n",
    "    plotlyFig.add_trace(tempFig.data[1])\n",
    "    plotlyFig.update_layout(width=1000,\n",
    "                            height=930)\n",
    "    \n",
    "    plotlyFig.write_html(dirLoc+'/prob_beta_fit_QQ-plots/qqPlot-'+col.replace('&','+')+'.html')\n",
    "    plotlyFig.write_image(dirLoc+'/prob_beta_fit_QQ-plots/qqPlot-'+col.replace('&','+')+'.png')\n",
    "          \n",
    "    trendFit = px.get_trendline_results(plotlyFig)\n",
    "    \n",
    "    trendFitData = trendFit.at[0,'px_fit_results']\n",
    "    summary = trendFitData.summary()\n",
    "    print(summary)\n",
    "    betaFitDF.at[row,'summary'] = summary.as_latex()\n",
    "    \n",
    "    betaFitDF.at[row,'AIC'] = trendFitData.aic\n",
    "    betaFitDF.at[row,'BIC'] = trendFitData.bic\n",
    "    betaFitDF.at[row,'const. std err'] = trendFitData.bse[0]\n",
    "    betaFitDF.at[row,'x1 std err'] = trendFitData.bse[1]\n",
    "    betaFitDF.at[row,'const'] = trendFitData.params[0]\n",
    "    betaFitDF.at[row,'x1'] = trendFitData.params[1]\n",
    "    betaFitDF.at[row,'const (p-value)'] = trendFitData.pvalues[0]\n",
    "    betaFitDF.at[row,'x1 (p-value)'] = trendFitData.pvalues[1]\n",
    "    betaFitDF.at[row,'const (lb)'] = trendFitData.conf_int()[0][0]\n",
    "    betaFitDF.at[row,'const (ub)'] = trendFitData.conf_int()[0][1]\n",
    "    betaFitDF.at[row,'x1 (lb)'] = trendFitData.conf_int()[1][0]\n",
    "    betaFitDF.at[row,'x1 (ub)'] = trendFitData.conf_int()[1][1]\n",
    "    betaFitDF.at[row,'cov type'] = trendFitData.cov_type\n",
    "    betaFitDF.at[row,'model DF'] = trendFitData.df_model\n",
    "    betaFitDF.at[row,'resid. DF'] = trendFitData.df_resid\n",
    "    betaFitDF.at[row,'model MSE'] = trendFitData.mse_model\n",
    "    betaFitDF.at[row,'resid. MSE'] = trendFitData.mse_resid\n",
    "    betaFitDF.at[row,'total MSE'] = trendFitData.mse_total\n",
    "    betaFitDF.at[row,'R^2'] = trendFitData.rsquared\n",
    "    betaFitDF.at[row,'adj. R^2'] = trendFitData.rsquared_adj\n",
    "    \n",
    "    row += 1\n",
    "    plotlyFig.show()"
   ]
  },
  {
   "cell_type": "code",
   "execution_count": null,
   "id": "beb5a085",
   "metadata": {
    "ExecuteTime": {
     "end_time": "2024-03-05T10:24:24.562873Z",
     "start_time": "2024-03-05T10:24:24.535706Z"
    }
   },
   "outputs": [],
   "source": [
    "betaFitDF.to_csv(dirLoc+'/probBetaFits.csv',\n",
    "                 index=False)\n",
    "betaFitDF.head(1000)"
   ]
  },
  {
   "cell_type": "code",
   "execution_count": null,
   "id": "04c3deed",
   "metadata": {
    "ExecuteTime": {
     "end_time": "2024-03-17T07:59:57.629376Z",
     "start_time": "2024-03-17T07:59:57.597021Z"
    }
   },
   "outputs": [],
   "source": [
    "probDF = pd.read_csv(dirLoc+'/probValues.csv')"
   ]
  },
  {
   "cell_type": "markdown",
   "id": "71458f89",
   "metadata": {},
   "source": [
    "### Viz vs. No Viz Beta-Difference"
   ]
  },
  {
   "cell_type": "code",
   "execution_count": null,
   "id": "6ba06ed5",
   "metadata": {
    "ExecuteTime": {
     "end_time": "2024-03-17T08:00:02.244188Z",
     "start_time": "2024-03-17T08:00:02.233833Z"
    }
   },
   "outputs": [],
   "source": [
    "probColDict = {}\n",
    "for col in probDF.columns:\n",
    "    colList = col.split('&')\n",
    "    \n",
    "    if 'reVLAT_VizChoices' in colList:\n",
    "        colList.remove('reVLAT_VizChoices')\n",
    "        colList.sort()\n",
    "        newCol = '&'.join(colList)\n",
    "        \n",
    "        if newCol not in probColDict.keys():\n",
    "            probColDict[newCol] = {'Viz':col}\n",
    "        else:\n",
    "            tempDict = probColDict[newCol]\n",
    "            tempDict['Viz'] = col\n",
    "            probColDict[newCol] = tempDict\n",
    "    elif 'reVLAT_NoVizChoices' in colList:\n",
    "        colList.remove('reVLAT_NoVizChoices')\n",
    "        colList.sort()\n",
    "        newCol = '&'.join(colList)\n",
    "        \n",
    "        if newCol not in probColDict.keys():\n",
    "            probColDict[newCol] = {'NoViz':col}\n",
    "        else:\n",
    "            tempDict = probColDict[newCol]\n",
    "            tempDict['NoViz'] = col\n",
    "            probColDict[newCol] = tempDict\n",
    "\n",
    "probColDict"
   ]
  },
  {
   "cell_type": "code",
   "execution_count": null,
   "id": "dbe9b35b",
   "metadata": {
    "ExecuteTime": {
     "end_time": "2024-03-18T00:15:56.179887Z",
     "start_time": "2024-03-17T08:00:06.779699Z"
    },
    "scrolled": true
   },
   "outputs": [],
   "source": [
    "upperLim = 100000\n",
    "dist = stats.beta\n",
    "\n",
    "vizDiffAnalysisDF = pd.DataFrame()\n",
    "row = 0\n",
    "for key in probColDict:\n",
    "    vizCol = probColDict[key]['Viz']\n",
    "    noVizCol = probColDict[key]['NoViz']\n",
    "    diffSeries = probDF[vizCol]-probDF[noVizCol]\n",
    "    \n",
    "    fig = px.histogram(diffSeries,\n",
    "                       marginal='box')\n",
    "    fig.update_layout(title='Difference between Viz and No Viz ('+key.replace('&',', ')+')',\n",
    "                      xaxis={'title':{'text':r'$\\text{Diff. Values (}\\pi_{\\text{Viz}}-\\pi_{\\text{No Viz}}\\text{)}$'}},\n",
    "                      showlegend=False)\n",
    "    fig.write_html(dirLoc+'/vizDiff_histogram_boxplots/vizDiff-'+key.replace('&','+')+'.html')\n",
    "    fig.write_image(dirLoc+'/vizDiff_histogram_boxplots/vizDiff-'+key.replace('&','+')+'.png',\n",
    "                    width=2000,\n",
    "                    height=1000)\n",
    "    fig.show()\n",
    "    \n",
    "    # Viz distribution check\n",
    "    bounds = [(0, upperLim), (0, upperLim)]\n",
    "    vizResults = stats.fit(dist,\n",
    "                           probDF[vizCol],\n",
    "                           bounds)\n",
    "    vizStat_ks, vizPVal_ks = stats.kstest(probDF[vizCol],\n",
    "                                          'beta',\n",
    "                                          [vizResults.params.a,\n",
    "                                           vizResults.params.b])\n",
    "    # No Viz distribution check\n",
    "    noVizResults = stats.fit(dist,\n",
    "                             probDF[noVizCol],\n",
    "                             bounds)\n",
    "    noVizStat_ks, noVizPVal_ks = stats.kstest(probDF[noVizCol],\n",
    "                                              'beta',\n",
    "                                              [noVizResults.params.a,\n",
    "                                               noVizResults.params.b])\n",
    "    print(key)\n",
    "    print(vizPVal_ks,noVizPVal_ks)\n",
    "    if (vizPVal_ks <= 0.05)|(noVizPVal_ks <= 0.05):\n",
    "        betaDiffBool = False\n",
    "        ecdfResult = stats.ecdf(diffSeries)\n",
    "        zeroCDF_hat = ecdfResult.cdf.evaluate(0)\n",
    "        LB_hat = max(ecdfResult.cdf.quantiles[ecdfResult.cdf.probabilities <= 0.025])\n",
    "        UB_hat = min(ecdfResult.cdf.quantiles[ecdfResult.cdf.probabilities >= 0.975])\n",
    "        fail2RejectBool = (LB_hat <= 0)&(UB_hat >= 0)\n",
    "        \n",
    "        oneSide_LB_hat = max(ecdfResult.cdf.quantiles[ecdfResult.cdf.probabilities <= 0.05])\n",
    "        oneSide_fail2RejectBool = oneSide_LB_hat <= 0\n",
    "    else:\n",
    "        betaDiffBool = True\n",
    "        zeroCDF_hat = pDiffProp(0,\n",
    "                                vizResults.params.a,\n",
    "                                vizResults.params.b,\n",
    "                                noVizResults.params.a,\n",
    "                                noVizResults.params.b,\n",
    "                                dps=15)\n",
    "        LB_hat = qDiffProp(0.025,\n",
    "                           vizResults.params.a,\n",
    "                           vizResults.params.b,\n",
    "                           noVizResults.params.a,\n",
    "                           noVizResults.params.b,\n",
    "                           dps=15)\n",
    "        UB_hat = qDiffProp(0.975,\n",
    "                           vizResults.params.a,\n",
    "                           vizResults.params.b,\n",
    "                           noVizResults.params.a,\n",
    "                           noVizResults.params.b,\n",
    "                           dps=15)\n",
    "        fail2RejectBool = (LB_hat <= 0)&(UB_hat >= 0)\n",
    "        \n",
    "        oneSide_LB_hat = qDiffProp(0.05,\n",
    "                                   vizResults.params.a,\n",
    "                                   vizResults.params.b,\n",
    "                                   noVizResults.params.a,\n",
    "                                   noVizResults.params.b,\n",
    "                                   dps=15)\n",
    "        oneSide_fail2RejectBool = oneSide_LB_hat <= 0\n",
    "\n",
    "    vizDiffAnalysisDF.at[row,'colName'] = key\n",
    "    vizDiffAnalysisDF.at[row,'betaDiff?'] = betaDiffBool\n",
    "    vizDiffAnalysisDF.at[row,'zeroCDF_hat'] = zeroCDF_hat\n",
    "    vizDiffAnalysisDF.at[row,'2-side p-value_hat'] = 2*min(zeroCDF_hat,1-zeroCDF_hat)\n",
    "    vizDiffAnalysisDF.at[row,'2-side LB_hat (<= 0.025)'] = LB_hat\n",
    "    vizDiffAnalysisDF.at[row,'2-side UB_hat (>= 0.975)'] = UB_hat\n",
    "    vizDiffAnalysisDF.at[row,'2-side failToReject'] = fail2RejectBool\n",
    "    \n",
    "    vizDiffAnalysisDF.at[row,'1-side p-value_hat'] = zeroCDF_hat\n",
    "    vizDiffAnalysisDF.at[row,'1-side LB_hat (<= 0.05)'] = oneSide_LB_hat\n",
    "    vizDiffAnalysisDF.at[row,'1-side failToReject'] = oneSide_fail2RejectBool\n",
    "\n",
    "    row += 1"
   ]
  },
  {
   "cell_type": "code",
   "execution_count": null,
   "id": "360726c8",
   "metadata": {
    "ExecuteTime": {
     "end_time": "2024-03-18T00:15:56.183830Z",
     "start_time": "2024-03-18T00:15:56.181034Z"
    }
   },
   "outputs": [],
   "source": [
    "sum(vizDiffAnalysisDF['betaDiff?'])"
   ]
  },
  {
   "cell_type": "code",
   "execution_count": null,
   "id": "1cf91a18",
   "metadata": {
    "ExecuteTime": {
     "end_time": "2024-03-18T00:15:56.196233Z",
     "start_time": "2024-03-18T00:15:56.184726Z"
    }
   },
   "outputs": [],
   "source": [
    "vizDiffAnalysisDF.to_csv(dirLoc+'/vizDiffAnalysis.csv',\n",
    "                         index=False)\n",
    "vizDiffAnalysisDF.head(1000)"
   ]
  },
  {
   "cell_type": "markdown",
   "id": "b42db4a7",
   "metadata": {},
   "source": [
    "#### Non-parametric Wilcoxon signed ranked test"
   ]
  },
  {
   "cell_type": "code",
   "execution_count": null,
   "id": "3f855909",
   "metadata": {
    "ExecuteTime": {
     "end_time": "2024-03-18T00:15:56.341448Z",
     "start_time": "2024-03-18T00:15:56.197347Z"
    }
   },
   "outputs": [],
   "source": [
    "vizDiffNonParamDF = pd.DataFrame()\n",
    "row = 0\n",
    "for key in probColDict:\n",
    "    vizCol = probColDict[key]['Viz']\n",
    "    noVizCol = probColDict[key]['NoViz']\n",
    "    diffSeries = probDF[vizCol]-probDF[noVizCol]\n",
    "    \n",
    "    results = stats.wilcoxon(diffSeries,\n",
    "                             alternative='two-sided')\n",
    "\n",
    "    vizDiffNonParamDF.at[row,'key'] = key\n",
    "    vizDiffNonParamDF.at[row,'statistic (2-sided)'] = results.statistic\n",
    "    vizDiffNonParamDF.at[row,'p-value (2-sided)'] = results.pvalue\n",
    "    \n",
    "    results = stats.wilcoxon(diffSeries,\n",
    "                             alternative='greater')\n",
    "\n",
    "    vizDiffNonParamDF.at[row,'key'] = key\n",
    "    vizDiffNonParamDF.at[row,'statistic (right-sided)'] = results.statistic\n",
    "    vizDiffNonParamDF.at[row,'p-value (right-sided)'] = results.pvalue\n",
    "\n",
    "    row += 1"
   ]
  },
  {
   "cell_type": "code",
   "execution_count": null,
   "id": "a74c3293",
   "metadata": {
    "ExecuteTime": {
     "end_time": "2024-03-18T00:15:56.352372Z",
     "start_time": "2024-03-18T00:15:56.342492Z"
    }
   },
   "outputs": [],
   "source": [
    "vizDiffNonParamDF.to_csv(dirLoc+'/vizDiffNonParam.csv',\n",
    "                         index=False)\n",
    "vizDiffNonParamDF.head(1000)"
   ]
  },
  {
   "cell_type": "markdown",
   "id": "1dc4672c",
   "metadata": {},
   "source": [
    "### ChatGPT vs. Gemini with Viz Beta-Difference"
   ]
  },
  {
   "cell_type": "code",
   "execution_count": null,
   "id": "46d7712c",
   "metadata": {
    "ExecuteTime": {
     "end_time": "2024-03-18T00:15:56.362826Z",
     "start_time": "2024-03-18T00:15:56.353230Z"
    }
   },
   "outputs": [],
   "source": [
    "probColDict = {}\n",
    "for col in probDF.columns:\n",
    "    colList = col.split('&')\n",
    "    \n",
    "    if 'ChatGPT' in colList:\n",
    "        colList.remove('ChatGPT')\n",
    "        colList.sort()\n",
    "        newCol = '&'.join(colList)\n",
    "        \n",
    "        if newCol not in probColDict.keys():\n",
    "            probColDict[newCol] = {'ChatGPT':col}\n",
    "        else:\n",
    "            tempDict = probColDict[newCol]\n",
    "            tempDict['ChatGPT'] = col\n",
    "            probColDict[newCol] = tempDict\n",
    "    elif 'Gemini' in colList:\n",
    "        colList.remove('Gemini')\n",
    "        colList.sort()\n",
    "        newCol = '&'.join(colList)\n",
    "        \n",
    "        if newCol not in probColDict.keys():\n",
    "            probColDict[newCol] = {'Gemini':col}\n",
    "        else:\n",
    "            tempDict = probColDict[newCol]\n",
    "            tempDict['Gemini'] = col\n",
    "            probColDict[newCol] = tempDict\n",
    "\n",
    "probColDict"
   ]
  },
  {
   "cell_type": "code",
   "execution_count": null,
   "id": "0e31fef8",
   "metadata": {
    "ExecuteTime": {
     "end_time": "2024-03-18T13:37:53.537244Z",
     "start_time": "2024-03-18T00:15:56.363740Z"
    },
    "scrolled": true
   },
   "outputs": [],
   "source": [
    "upperLim = 100000\n",
    "dist = stats.beta\n",
    "\n",
    "llmDiffAnalysisDF = pd.DataFrame()\n",
    "row = 0\n",
    "for key in probColDict:\n",
    "    chatGPTCol = probColDict[key]['ChatGPT']\n",
    "    geminiCol = probColDict[key]['Gemini']\n",
    "    diffSeries = probDF[chatGPTCol]-probDF[geminiCol]\n",
    "    \n",
    "    fig = px.histogram(diffSeries,\n",
    "                       marginal='box')\n",
    "    fig.update_layout(title='Difference between ChatGPT and Gemini ('+key.replace('&',', ')+')',\n",
    "                      xaxis={'title':{'text':r'$\\text{Diff. Values (}\\pi_{\\text{ChatGPT}}-\\pi_{\\text{Gemini}}\\text{)}$'}},\n",
    "                      showlegend=False)\n",
    "    fig.write_html(dirLoc+'/llmDiff_histogram_boxplots/llmDiff-'+key.replace('&','+')+'.html')\n",
    "    fig.write_image(dirLoc+'/llmDiff_histogram_boxplots/llmDiff-'+key.replace('&','+')+'.png',\n",
    "                    width=2000,\n",
    "                    height=1000)\n",
    "    fig.show()\n",
    "\n",
    "    # ChatGPT distribution check\n",
    "    bounds = [(0, upperLim), (0, upperLim)]\n",
    "    chatGPTResults = stats.fit(dist,\n",
    "                               probDF[chatGPTCol],\n",
    "                               bounds)\n",
    "    chatGPT_Stat, chatGPT_PVal = stats.kstest(probDF[chatGPTCol],\n",
    "                                              'beta',\n",
    "                                              [chatGPTResults.params.a,\n",
    "                                               chatGPTResults.params.b])\n",
    "    \n",
    "    # Gemini distribution check\n",
    "    geminiResults = stats.fit(dist,\n",
    "                              probDF[geminiCol],\n",
    "                              bounds)\n",
    "    geminiStat, geminiPVal = stats.kstest(probDF[geminiCol],\n",
    "                                          'beta',\n",
    "                                          [geminiResults.params.a,\n",
    "                                           geminiResults.params.b])\n",
    "    \n",
    "    print(key)\n",
    "    print(chatGPT_PVal,geminiPVal)\n",
    "    if (chatGPT_PVal <= 0.05)|(geminiPVal <= 0.05):\n",
    "        betaDiffBool = False\n",
    "        \n",
    "        ecdfResult = stats.ecdf(diffSeries)\n",
    "        zeroCDF_hat = ecdfResult.cdf.evaluate(0)\n",
    "        LB_hat = max(ecdfResult.cdf.quantiles[ecdfResult.cdf.probabilities <= 0.025])\n",
    "        UB_hat = min(ecdfResult.cdf.quantiles[ecdfResult.cdf.probabilities >= 0.975])\n",
    "        fail2RejectBool = (LB_hat <= 0)&(UB_hat >= 0)\n",
    "        \n",
    "        oneSide_LB_hat = max(ecdfResult.cdf.quantiles[ecdfResult.cdf.probabilities <= 0.05])\n",
    "        oneSide_fail2RejectBool = oneSide_LB_hat <= 0\n",
    "    else:\n",
    "        betaDiffBool = True\n",
    "        \n",
    "        zeroCDF_hat = pDiffProp(0,\n",
    "                                chatGPTResults.params.a,\n",
    "                                chatGPTResults.params.b,\n",
    "                                geminiResults.params.a,\n",
    "                                geminiResults.params.b,\n",
    "                                dps=15)\n",
    "        LB_hat = qDiffProp(0.025,\n",
    "                           chatGPTResults.params.a,\n",
    "                           chatGPTResults.params.b,\n",
    "                           geminiResults.params.a,\n",
    "                           geminiResults.params.b,\n",
    "                           dps=15)\n",
    "        UB_hat = qDiffProp(0.975,\n",
    "                           chatGPTResults.params.a,\n",
    "                           chatGPTResults.params.b,\n",
    "                           geminiResults.params.a,\n",
    "                           geminiResults.params.b,\n",
    "                           dps=15)\n",
    "        fail2RejectBool = (LB_hat <= 0)&(UB_hat >= 0)\n",
    "        \n",
    "        oneSide_LB_hat = qDiffProp(0.05,\n",
    "                                   chatGPTResults.params.a,\n",
    "                                   chatGPTResults.params.b,\n",
    "                                   geminiResults.params.a,\n",
    "                                   geminiResults.params.b,\n",
    "                                   dps=15)\n",
    "        oneSide_fail2RejectBool = oneSide_LB_hat <= 0\n",
    "\n",
    "    llmDiffAnalysisDF.at[row,'colName'] = key\n",
    "    llmDiffAnalysisDF.at[row,'betaDiff?'] = betaDiffBool\n",
    "    llmDiffAnalysisDF.at[row,'zeroCDF_hat'] = zeroCDF_hat\n",
    "    llmDiffAnalysisDF.at[row,'2-side p-value_hat'] = 2*min(zeroCDF_hat,1-zeroCDF_hat)\n",
    "    llmDiffAnalysisDF.at[row,'2-side LB_hat (<= 0.025)'] = LB_hat\n",
    "    llmDiffAnalysisDF.at[row,'2-side UB_hat (>= 0.975)'] = UB_hat\n",
    "    llmDiffAnalysisDF.at[row,'2-side failToReject'] = fail2RejectBool\n",
    "    \n",
    "    llmDiffAnalysisDF.at[row,'1-side p-value_hat'] = zeroCDF_hat\n",
    "    llmDiffAnalysisDF.at[row,'1-side LB_hat (<= 0.05)'] = oneSide_LB_hat\n",
    "    llmDiffAnalysisDF.at[row,'1-side failToReject'] = oneSide_fail2RejectBool\n",
    "\n",
    "    row += 1"
   ]
  },
  {
   "cell_type": "code",
   "execution_count": null,
   "id": "45214260",
   "metadata": {
    "ExecuteTime": {
     "end_time": "2024-03-18T13:37:53.542238Z",
     "start_time": "2024-03-18T13:37:53.538311Z"
    }
   },
   "outputs": [],
   "source": [
    "sum(llmDiffAnalysisDF['betaDiff?'])"
   ]
  },
  {
   "cell_type": "code",
   "execution_count": null,
   "id": "bb4a871b",
   "metadata": {
    "ExecuteTime": {
     "end_time": "2024-03-18T13:37:53.554219Z",
     "start_time": "2024-03-18T13:37:53.543162Z"
    }
   },
   "outputs": [],
   "source": [
    "llmDiffAnalysisDF.to_csv(dirLoc+'/llmDiffAnalysis.csv',\n",
    "                         index=False)\n",
    "llmDiffAnalysisDF.head(1000)"
   ]
  },
  {
   "cell_type": "markdown",
   "id": "eb11e161",
   "metadata": {},
   "source": [
    "#### Non-parametric Wilcoxon signed ranked test"
   ]
  },
  {
   "cell_type": "code",
   "execution_count": null,
   "id": "4d06528a",
   "metadata": {
    "ExecuteTime": {
     "end_time": "2024-03-18T13:37:53.708094Z",
     "start_time": "2024-03-18T13:37:53.555307Z"
    }
   },
   "outputs": [],
   "source": [
    "llmDiffNonParamDF = pd.DataFrame()\n",
    "row = 0\n",
    "for key in probColDict:\n",
    "    chatGPTCol = probColDict[key]['ChatGPT']\n",
    "    geminiCol = probColDict[key]['Gemini']\n",
    "    diffSeries = probDF[chatGPTCol]-probDF[geminiCol]\n",
    "    \n",
    "    results = stats.wilcoxon(diffSeries,\n",
    "                             alternative='two-sided')\n",
    "\n",
    "    llmDiffNonParamDF.at[row,'key'] = key\n",
    "    llmDiffNonParamDF.at[row,'statistic (2-sided)'] = results.statistic\n",
    "    llmDiffNonParamDF.at[row,'p-value (2-sided)'] = results.pvalue\n",
    "    \n",
    "    results = stats.wilcoxon(diffSeries,\n",
    "                             alternative='greater')\n",
    "\n",
    "    llmDiffNonParamDF.at[row,'key'] = key\n",
    "    llmDiffNonParamDF.at[row,'statistic (right-sided)'] = results.statistic\n",
    "    llmDiffNonParamDF.at[row,'p-value (right-sided)'] = results.pvalue\n",
    "\n",
    "    row += 1"
   ]
  },
  {
   "cell_type": "code",
   "execution_count": null,
   "id": "7a8e3068",
   "metadata": {
    "ExecuteTime": {
     "end_time": "2024-03-18T13:37:53.720520Z",
     "start_time": "2024-03-18T13:37:53.709016Z"
    }
   },
   "outputs": [],
   "source": [
    "llmDiffNonParamDF.to_csv(dirLoc+'/llmDiffNonParam.csv',\n",
    "                         index=False)\n",
    "llmDiffNonParamDF.head(1000)"
   ]
  },
  {
   "cell_type": "markdown",
   "id": "106979db",
   "metadata": {},
   "source": [
    "# Testing Difference of Proportion Functions"
   ]
  },
  {
   "cell_type": "code",
   "execution_count": null,
   "id": "e830110a",
   "metadata": {
    "ExecuteTime": {
     "end_time": "2024-03-23T05:02:38.001069Z",
     "start_time": "2024-03-23T05:02:37.997779Z"
    }
   },
   "outputs": [],
   "source": [
    "from scipy.integrate import trapezoid,simpson\n",
    "import time\n",
    "\n",
    "##Gemini&Line_Chart&make_comparisons\n",
    "#alpha1 = 36.1171673330409\n",
    "#beta1 = 91.5636291190753\n",
    "#alpha2 = 23.9093684945453\n",
    "#beta2 = 95.730077115206\n",
    "\n",
    "##ChatGPT&Stacked_Bar_Chart&make_comparisons\n",
    "#alpha1 = 185.394043555625\n",
    "#beta1 = 40.5301731048018\n",
    "#alpha2 = 159.28649179287\n",
    "#beta2 = 70.9384378360878\n",
    "\n",
    "##Bar_Chart&ChatGPT&retrieve_value\n",
    "#alpha1 = 48.751399175075\n",
    "#beta1 = 72.7885512799088\n",
    "#alpha2 = 29.8128514593062\n",
    "#beta2 = 85.7945211561443\n",
    "\n",
    "##ChatGPT&Histogram&make_comparisons\n",
    "#alpha1 = 97.8122731451552\n",
    "#beta1 = 11.9609212337853\n",
    "#alpha2 = 41.3740777850262\n",
    "#beta2 = 78.9974913665964\n",
    "\n",
    "#Scatterplot&find_clusters&reVLAT_VizChoices\n",
    "alpha1 = 5.72430572423684\n",
    "beta1 = 94.4107952595218\n",
    "alpha2 = 59.2699177367726\n",
    "beta2 = 59.0993784797046\n",
    "\n",
    "dList = []\n",
    "pList = []"
   ]
  },
  {
   "cell_type": "code",
   "execution_count": null,
   "id": "48049b44",
   "metadata": {
    "ExecuteTime": {
     "end_time": "2024-03-19T06:55:44.603725Z",
     "start_time": "2024-03-19T06:20:05.978774Z"
    },
    "scrolled": true
   },
   "outputs": [],
   "source": [
    "#xList = np.linspace(-1,1,1000)\n",
    "xList = np.linspace(-1,1,100)\n",
    "start1 = time.time()\n",
    "dList = [dDiffProp(x,alpha1,beta1,alpha2,beta2,10000,'simpson',1000) for x in xList]\n",
    "start2 = time.time()\n",
    "pList_simpson = [simpson(dList[0:(i+1)],x=xList[0:(i+1)]) for i,x in enumerate(xList)]\n",
    "start3 = time.time()\n",
    "pList_trap = [trapezoid(dList[0:(i+1)],x=xList[0:(i+1)]) for i,x in enumerate(xList)]\n",
    "start4 = time.time()\n",
    "pList_scipy = [pDiffProp(x,alpha1,beta1,alpha2,beta2,'scipy') for x in xList]\n",
    "start5 = time.time()\n",
    "pList_scipy2 = [pDiffProp(x,alpha1,beta1,alpha2,beta2,'scipy',altInt='trap') for x in xList]\n",
    "start6 = time.time()\n",
    "pList_scipy3 = [pDiffProp(x,alpha1,beta1,alpha2,beta2,'scipy',altBool=False) for x in xList]\n",
    "start7 = time.time()\n",
    "pList_mpmath = [pDiffProp(x,alpha1,beta1,alpha2,beta2,'mpmath',dps=15) for x in xList]\n",
    "start8 = time.time()\n",
    "pList_mpmath2 = [pDiffProp(x,alpha1,beta1,alpha2,beta2,'mpmath',dps=10) for x in xList]\n",
    "start9 = time.time()\n",
    "pList_mpmath3 = [pDiffProp(x,alpha1,beta1,alpha2,beta2,'mpmath',dps=5) for x in xList]\n",
    "start10 = time.time()"
   ]
  },
  {
   "cell_type": "code",
   "execution_count": null,
   "id": "c4081997",
   "metadata": {
    "ExecuteTime": {
     "end_time": "2024-03-19T06:55:44.608361Z",
     "start_time": "2024-03-19T06:55:44.604890Z"
    }
   },
   "outputs": [],
   "source": [
    "print('denisty',start2-start1)\n",
    "print('cdf (simpson)',start3-start2)\n",
    "print('cdf (trapezoid)',start4-start3)\n",
    "print('cdf (scipy simpson)',start5-start4)\n",
    "print('cdf (scipy trapezoid)',start6-start5)\n",
    "print('cdf (scipy integral)',start7-start6)\n",
    "print('cdf (mpmath dps=15)',start8-start7)\n",
    "print('cdf (mpmath dps=10)',start9-start8)\n",
    "print('cdf (mpmath dps=5)',start10-start9)"
   ]
  },
  {
   "cell_type": "code",
   "execution_count": null,
   "id": "eaa6642b",
   "metadata": {
    "ExecuteTime": {
     "end_time": "2024-03-23T05:29:33.769450Z",
     "start_time": "2024-03-23T05:19:31.650893Z"
    }
   },
   "outputs": [],
   "source": [
    "#zero_mpmath = pDiffProp(0,alpha1,beta1,alpha2,beta2,'mpmath',dps=15)\n",
    "#print(zero_mpmath)\n",
    "#zero_mpmath2 = pDiffProp(0,alpha1,beta1,alpha2,beta2,'mpmath',dps=30)\n",
    "#print(zero_mpmath2)\n",
    "#zero_mpmath3 = pDiffProp(-10**(-17),alpha1,beta1,alpha2,beta2,'mpmath')\n",
    "#print(zero_mpmath3)\n",
    "\n",
    "#test_mpmath = pDiffProp(-0.542312489289515,alpha1,beta1,alpha2,beta2,'mpmath',dps=15)\n",
    "#print(test_mpmath)\n",
    "#test_mpmath2 = pDiffProp(-0.341532694383224,alpha1,beta1,alpha2,beta2,'mpmath',dps=15)\n",
    "#print(test_mpmath2)\n",
    "\n",
    "#zero_scipy1 = pDiffProp(0,alpha1,beta1,alpha2,beta2,'scipy')\n",
    "#zero_scipy2 = pDiffProp(0,alpha1,beta1,alpha2,beta2,'scipy',altInt='trap')\n",
    "#zero_scipy3 = pDiffProp(0,alpha1,beta1,alpha2,beta2,'scipy',altBool=False)\n",
    "#test_mpmath = pDiffProp(0.000001,alpha1,beta1,alpha2,beta2,'mpmath',dps=15)\n",
    "#test_scipy1 = pDiffProp(0.000001,alpha1,beta1,alpha2,beta2,'scipy')\n",
    "#test_scipy2 = pDiffProp(0.000001,alpha1,beta1,alpha2,beta2,'scipy',altInt='trap')\n",
    "#test_scipy3 = pDiffProp(0.000001,alpha1,beta1,alpha2,beta2,'scipy',altBool=False)\n",
    "#print(zero_mpmath,zero_scipy1,zero_scipy2,zero_scipy3)\n",
    "#print(test_mpmath,test_scipy1,test_scipy2,test_scipy3)\n",
    "\n",
    "valList = [1,0.1,0.01,0.001,0.0001,0.00001,0.000001,0.0000001]\n",
    "zero_mpmath = pDiffProp(0,\n",
    "                        alpha1,\n",
    "                        beta1,\n",
    "                        alpha2,\n",
    "                        beta2,\n",
    "                        intType='mpmath',\n",
    "                        dps=30,\n",
    "                        outputType='mpf')\n",
    "print(zero_mpmath)\n",
    "for val in valList:\n",
    "    left_mpmath = pDiffProp(-val,\n",
    "                            alpha1,\n",
    "                            beta1,\n",
    "                            alpha2,\n",
    "                            beta2,\n",
    "                            intType='mpmath',\n",
    "                            dps=30,\n",
    "                            outputType='mpf')\n",
    "    print(left_mpmath)"
   ]
  },
  {
   "cell_type": "code",
   "execution_count": null,
   "id": "0e396887",
   "metadata": {
    "ExecuteTime": {
     "end_time": "2024-03-19T07:04:49.027861Z",
     "start_time": "2024-03-19T07:04:49.024699Z"
    }
   },
   "outputs": [],
   "source": [
    "tempList = [float(x) for x in pList_scipy3]"
   ]
  },
  {
   "cell_type": "code",
   "execution_count": null,
   "id": "e93b0cd3",
   "metadata": {
    "ExecuteTime": {
     "end_time": "2024-03-19T07:04:57.115648Z",
     "start_time": "2024-03-19T07:04:57.095771Z"
    }
   },
   "outputs": [],
   "source": [
    "pdfTrace = go.Scatter(x=xList,\n",
    "                      y=dList)\n",
    "cdfTrace_simpson = go.Scatter(x=xList,\n",
    "                              y=pList_simpson)\n",
    "cdfTrace_trap = go.Scatter(x=xList,\n",
    "                           y=pList_trap)\n",
    "cdfTrace_scipy = go.Scatter(x=xList,\n",
    "                            y=pList_scipy)\n",
    "cdfTrace_scipy2 = go.Scatter(x=xList,\n",
    "                             y=pList_scipy2)\n",
    "cdfTrace_scipy3 = go.Scatter(x=xList,\n",
    "                             y=tempList)#pList_scipy3)\n",
    "cdfTrace_mpmath = go.Scatter(x=xList,\n",
    "                             y=pList_mpmath)\n",
    "cdfTrace_mpmath2 = go.Scatter(x=xList,\n",
    "                              y=pList_mpmath2)\n",
    "cdfTrace_mpmath3 = go.Scatter(x=xList,\n",
    "                              y=pList_mpmath3)\n",
    "fig = go.Figure(data=[pdfTrace,\n",
    "                      cdfTrace_simpson,\n",
    "                      cdfTrace_trap,\n",
    "                      cdfTrace_scipy,\n",
    "                      cdfTrace_scipy2,\n",
    "                      cdfTrace_scipy3,\n",
    "                      cdfTrace_mpmath,\n",
    "                      cdfTrace_mpmath2,\n",
    "                      cdfTrace_mpmath3])\n",
    "fig.show()"
   ]
  },
  {
   "cell_type": "code",
   "execution_count": null,
   "id": "3b666a56",
   "metadata": {
    "ExecuteTime": {
     "end_time": "2024-03-19T07:06:44.591992Z",
     "start_time": "2024-03-19T07:06:44.574456Z"
    }
   },
   "outputs": [],
   "source": [
    "temp1List = [p1-p2 for p1,p2 in zip(pList_simpson,pList_trap)]\n",
    "temp2List = [p1-p2 for p1,p2 in zip(pList_simpson,pList_scipy)]\n",
    "temp3List = [p1-p2 for p1,p2 in zip(pList_simpson,pList_scipy2)]\n",
    "temp4List = [p1-p2 for p1,p2 in zip(pList_simpson,tempList)]#pList_scipy3)]\n",
    "temp5List = [p1-p2 for p1,p2 in zip(pList_trap,pList_scipy)]\n",
    "temp6List = [p1-p2 for p1,p2 in zip(pList_trap,pList_scipy2)]\n",
    "temp7List = [p1-p2 for p1,p2 in zip(pList_trap,tempList)]#pList_scipy3)]\n",
    "temp8List = [p1-p2 for p1,p2 in zip(pList_scipy,pList_scipy2)]\n",
    "temp9List = [p1-p2 for p1,p2 in zip(pList_scipy,tempList)]#pList_scipy3)]\n",
    "temp10List = [p1-p2 for p1,p2 in zip(pList_scipy2,tempList)]#pList_scipy3)]\n",
    "\n",
    "diff1Trace = go.Scatter(x=xList,\n",
    "                        y=temp1List,\n",
    "                        name='simpson vs. trapezoid')\n",
    "diff2Trace = go.Scatter(x=xList,\n",
    "                        y=temp2List,\n",
    "                        name='simpson vs. scipy (simpson)')\n",
    "diff3Trace = go.Scatter(x=xList,\n",
    "                        y=temp3List,\n",
    "                        name='simpson vs. scipy (trapezoid)')\n",
    "diff4Trace = go.Scatter(x=xList,\n",
    "                        y=temp4List,\n",
    "                        name='simpson vs. scipy (integral)')\n",
    "diff5Trace = go.Scatter(x=xList,\n",
    "                        y=temp5List,\n",
    "                        name='trapezoid vs. scipy (simpson)')\n",
    "diff6Trace = go.Scatter(x=xList,\n",
    "                         y=temp6List,\n",
    "                         name='trapezoid vs. scipy (trapezoid)')\n",
    "diff7Trace = go.Scatter(x=xList,\n",
    "                         y=temp7List,\n",
    "                         name='trapezoid vs. scipy (integral)')\n",
    "diff8Trace = go.Scatter(x=xList,\n",
    "                         y=temp8List,\n",
    "                         name='scipy (simpson) vs. scipy (trapezoid)')\n",
    "diff9Trace = go.Scatter(x=xList,\n",
    "                         y=temp9List,\n",
    "                         name='scipy (simpson) vs. scipy (integral)')\n",
    "diff10Trace = go.Scatter(x=xList,\n",
    "                         y=temp10List,\n",
    "                         name='scipy (trapezoid) vs. scipy (integral)')\n",
    "\n",
    "fig = go.Figure(data=[diff1Trace,\n",
    "                      diff2Trace,\n",
    "                      diff3Trace,\n",
    "                      diff4Trace,\n",
    "                      diff5Trace,\n",
    "                      diff6Trace,\n",
    "                      diff7Trace,\n",
    "                      diff8Trace,\n",
    "                      diff9Trace,\n",
    "                      diff10Trace])\n",
    "fig.show()"
   ]
  },
  {
   "cell_type": "code",
   "execution_count": null,
   "id": "46fe22e0",
   "metadata": {
    "ExecuteTime": {
     "end_time": "2024-03-19T07:07:13.255834Z",
     "start_time": "2024-03-19T07:07:13.248004Z"
    }
   },
   "outputs": [],
   "source": [
    "temp1List = [p1-p2 for p1,p2 in zip(pList_mpmath,pList_mpmath2)]\n",
    "temp2List = [p1-p2 for p1,p2 in zip(pList_mpmath,pList_mpmath3)]\n",
    "temp3List = [p1-p2 for p1,p2 in zip(pList_mpmath2,pList_mpmath3)]\n",
    "\n",
    "diff1Trace = go.Scatter(x=xList,\n",
    "                        y=temp1List,\n",
    "                        name='15 vs. 10')\n",
    "diff2Trace = go.Scatter(x=xList,\n",
    "                        y=temp2List,\n",
    "                        name='15 vs. 5')\n",
    "diff3Trace = go.Scatter(x=xList,\n",
    "                        y=temp3List,\n",
    "                        name='10 vs. 5')\n",
    "\n",
    "fig = go.Figure(data=[diff1Trace,\n",
    "                      diff2Trace,\n",
    "                      diff3Trace])\n",
    "fig.show()"
   ]
  },
  {
   "cell_type": "code",
   "execution_count": null,
   "id": "70b44a8e",
   "metadata": {
    "ExecuteTime": {
     "end_time": "2024-03-19T07:07:51.903522Z",
     "start_time": "2024-03-19T07:07:51.889701Z"
    }
   },
   "outputs": [],
   "source": [
    "temp1List = [p1-p2 for p1,p2 in zip(pList_mpmath,pList_scipy)]\n",
    "temp2List = [p1-p2 for p1,p2 in zip(pList_mpmath,pList_scipy2)]\n",
    "temp3List = [p1-p2 for p1,p2 in zip(pList_mpmath,tempList)]#pList_scipy3)]\n",
    "temp4List = [p1-p2 for p1,p2 in zip(pList_mpmath,pList_mpmath2)]\n",
    "temp5List = [p1-p2 for p1,p2 in zip(pList_mpmath,pList_mpmath3)]\n",
    "\n",
    "diff1Trace = go.Scatter(x=xList,\n",
    "                        y=temp1List,\n",
    "                        name='mpmath 15 vs. scipy (simpson)')\n",
    "diff2Trace = go.Scatter(x=xList,\n",
    "                        y=temp2List,\n",
    "                        name='mpmath 15 vs. scipy (trapezoid)')\n",
    "diff3Trace = go.Scatter(x=xList,\n",
    "                        y=temp3List,\n",
    "                        name='mpmath 15 vs. scipy (integral)')\n",
    "diff4Trace = go.Scatter(x=xList,\n",
    "                        y=temp4List,\n",
    "                        name='mpmath 15 vs. mpmath 10')\n",
    "diff5Trace = go.Scatter(x=xList,\n",
    "                        y=temp5List,\n",
    "                        name='mpmath 15 vs. mpmath 5')\n",
    "\n",
    "fig = go.Figure(data=[diff1Trace,\n",
    "                      diff2Trace,\n",
    "                      diff3Trace,\n",
    "                      diff4Trace,\n",
    "                      diff5Trace])\n",
    "fig.show()"
   ]
  },
  {
   "cell_type": "markdown",
   "id": "c32a3e19",
   "metadata": {},
   "source": [
    "## Testing Quantile Function"
   ]
  },
  {
   "cell_type": "code",
   "execution_count": null,
   "id": "9db2ecfd",
   "metadata": {
    "ExecuteTime": {
     "end_time": "2024-03-15T06:41:39.215908Z",
     "start_time": "2024-03-15T06:38:30.741914Z"
    }
   },
   "outputs": [],
   "source": [
    "x = qDiffProp(0.5,\n",
    "              alpha1,\n",
    "              beta1,\n",
    "              alpha2,\n",
    "              beta2,\n",
    "              dps=5,\n",
    "              verbose=True)\n",
    "cdf = pDiffProp(x,\n",
    "                alpha1,\n",
    "                beta1,\n",
    "                alpha2,\n",
    "                beta2,\n",
    "                'mpmath')\n",
    "print(x,cdf)"
   ]
  },
  {
   "cell_type": "code",
   "execution_count": null,
   "id": "d883f52f",
   "metadata": {
    "ExecuteTime": {
     "end_time": "2024-03-15T06:32:13.758623Z",
     "start_time": "2024-03-15T06:32:13.755546Z"
    }
   },
   "outputs": [],
   "source": [
    "print(type(x))"
   ]
  }
 ],
 "metadata": {
  "@webio": {
   "lastCommId": null,
   "lastKernelId": null
  },
  "kernelspec": {
   "display_name": "Python 3 (ipykernel)",
   "language": "python",
   "name": "python3"
  },
  "language_info": {
   "codemirror_mode": {
    "name": "ipython",
    "version": 3
   },
   "file_extension": ".py",
   "mimetype": "text/x-python",
   "name": "python",
   "nbconvert_exporter": "python",
   "pygments_lexer": "ipython3",
   "version": "3.11.2"
  },
  "toc": {
   "base_numbering": 1,
   "nav_menu": {},
   "number_sections": true,
   "sideBar": true,
   "skip_h1_title": false,
   "title_cell": "Table of Contents",
   "title_sidebar": "Contents",
   "toc_cell": true,
   "toc_position": {
    "height": "calc(100% - 180px)",
    "left": "10px",
    "top": "150px",
    "width": "451.2px"
   },
   "toc_section_display": true,
   "toc_window_display": true
  }
 },
 "nbformat": 4,
 "nbformat_minor": 5
}
