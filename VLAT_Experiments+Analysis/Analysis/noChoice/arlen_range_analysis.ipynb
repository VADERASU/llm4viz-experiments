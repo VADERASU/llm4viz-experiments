{
 "cells": [
  {
   "cell_type": "code",
   "execution_count": 10,
   "id": "df5f7593",
   "metadata": {},
   "outputs": [],
   "source": [
    "# Adjust the cleaning and calculation functions to handle invalid or single-value ranges properly\n",
    "df = pd.read_csv('noChoices_range_only.csv')\n",
    "def clean_range_adjusted(s):\n",
    "    # Remove units and symbols, keeping only numbers, periods, and hyphens\n",
    "    return ''.join(filter(lambda x: x.isdigit() or x in ['.', '-'], s))\n",
    "\n",
    "# Adjust the calculation functions to handle cases where the data may not form a valid range\n",
    "def percentage_overlap_adjusted(answer, response):\n",
    "    try:\n",
    "        a_start, a_end = map(float, answer.split('-'))\n",
    "        r_start, r_end = map(float, response.split('-'))\n",
    "        overlap_start = max(a_start, r_start)\n",
    "        overlap_end = min(a_end, r_end)\n",
    "        if overlap_end <= overlap_start:\n",
    "            return 0\n",
    "        overlap_length = overlap_end - overlap_start\n",
    "        answer_length = a_end - a_start\n",
    "        percentage = (overlap_length / answer_length) * 100\n",
    "        return percentage\n",
    "    except ValueError:  # Handles cases with invalid ranges\n",
    "        return None\n",
    "\n",
    "def jaccard_index_adjusted(answer, response):\n",
    "    try:\n",
    "        a_start, a_end = map(float, answer.split('-'))\n",
    "        r_start, r_end = map(float, response.split('-'))\n",
    "        overlap_start = max(a_start, r_start)\n",
    "        overlap_end = min(a_end, r_end)\n",
    "        overlap_length = max(0, overlap_end - overlap_start)\n",
    "        union_start = min(a_start, r_start)\n",
    "        union_end = max(a_end, r_end)\n",
    "        union_length = union_end - union_start\n",
    "        jaccard = overlap_length / union_length\n",
    "        return jaccard\n",
    "    except ValueError:  # Handles cases with invalid ranges\n",
    "        return None\n",
    "\n",
    "# Clean the ranges with the adjusted function\n",
    "df['answer_cleaned'] = df['answer'].astype(str).apply(clean_range_adjusted)\n",
    "df['response_cleaned'] = df['response'].astype(str).apply(clean_range_adjusted)\n",
    "\n",
    "\n",
    "# Apply the adjusted overlap and Jaccard index functions\n",
    "df['percentage_overlap'] = df.apply(lambda x: percentage_overlap_adjusted(x['answer_cleaned'], x['response_cleaned']), axis=1)\n",
    "df['jaccard_index'] = df.apply(lambda x: jaccard_index_adjusted(x['answer_cleaned'], x['response_cleaned']), axis=1)\n",
    "\n",
    "\n",
    "\n",
    "\n"
   ]
  },
  {
   "cell_type": "code",
   "execution_count": 11,
   "id": "c9c71c20",
   "metadata": {},
   "outputs": [],
   "source": [
    "\n",
    "def sorensen_dice_coefficient(answer, response):\n",
    "    try:\n",
    "        a_start, a_end = map(float, answer.split('-'))\n",
    "        r_start, r_end = map(float, response.split('-'))\n",
    "        overlap_start = max(a_start, r_start)\n",
    "        overlap_end = min(a_end, r_end)\n",
    "        overlap_length = max(0, overlap_end - overlap_start)\n",
    "        answer_length = a_end - a_start\n",
    "        response_length = r_end - r_start\n",
    "        # Sørensen-Dice Coefficient calculation\n",
    "        if answer_length + response_length == 0:  # Avoid division by zero\n",
    "            return None\n",
    "        dice_coefficient = (2 * overlap_length) / (answer_length + response_length)\n",
    "        return dice_coefficient\n",
    "    except ValueError:  # Handles cases with invalid ranges\n",
    "        return None\n",
    "\n",
    "def overlap_coefficient(answer, response):\n",
    "    try:\n",
    "        a_start, a_end = map(float, answer.split('-'))\n",
    "        r_start, r_end = map(float, response.split('-'))\n",
    "        overlap_start = max(a_start, r_start)\n",
    "        overlap_end = min(a_end, r_end)\n",
    "        overlap_length = max(0, overlap_end - overlap_start)\n",
    "        answer_length = a_end - a_start\n",
    "        response_length = r_end - r_start\n",
    "        # Overlap Coefficient calculation\n",
    "        min_length = min(answer_length, response_length)\n",
    "        if min_length == 0:  # Avoid division by zero\n",
    "            return None\n",
    "        overlap_coeff = overlap_length / min_length\n",
    "        return overlap_coeff\n",
    "    except ValueError:  # Handles cases with invalid ranges\n",
    "        return None\n",
    "\n",
    "# Apply the new calculations to the dataframe\n",
    "df['sorensen_dice_coefficient'] = df.apply(lambda x: sorensen_dice_coefficient(x['answer_cleaned'], x['response_cleaned']), axis=1)\n",
    "df['overlap_coefficient'] = df.apply(lambda x: overlap_coefficient(x['answer_cleaned'], x['response_cleaned']), axis=1)\n"
   ]
  },
  {
   "cell_type": "code",
   "execution_count": 12,
   "id": "2edee1f3",
   "metadata": {},
   "outputs": [
    {
     "data": {
      "text/plain": [
       "'range_only_analysis_corrected.csv'"
      ]
     },
     "execution_count": 12,
     "metadata": {},
     "output_type": "execute_result"
    }
   ],
   "source": [
    "# Save the corrected dataframe to a new CSV file\n",
    "corrected_csv_path = 'range_only_analysis_corrected.csv'\n",
    "df.to_csv(corrected_csv_path, index=False)\n",
    "\n",
    "corrected_csv_path"
   ]
  },
  {
   "cell_type": "code",
   "execution_count": null,
   "id": "03ecb4a4",
   "metadata": {},
   "outputs": [],
   "source": []
  },
  {
   "cell_type": "code",
   "execution_count": null,
   "id": "772c965a",
   "metadata": {},
   "outputs": [],
   "source": []
  }
 ],
 "metadata": {
  "kernelspec": {
   "display_name": "Python 3 (ipykernel)",
   "language": "python",
   "name": "python3"
  },
  "language_info": {
   "codemirror_mode": {
    "name": "ipython",
    "version": 3
   },
   "file_extension": ".py",
   "mimetype": "text/x-python",
   "name": "python",
   "nbconvert_exporter": "python",
   "pygments_lexer": "ipython3",
   "version": "3.11.2"
  }
 },
 "nbformat": 4,
 "nbformat_minor": 5
}
