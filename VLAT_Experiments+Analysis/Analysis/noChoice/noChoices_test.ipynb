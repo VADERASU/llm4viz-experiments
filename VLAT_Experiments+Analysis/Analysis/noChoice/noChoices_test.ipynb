{
 "cells": [
  {
   "cell_type": "markdown",
   "metadata": {},
   "source": [
    "# Get answers for all no choices tests"
   ]
  },
  {
   "cell_type": "code",
   "execution_count": 1,
   "metadata": {},
   "outputs": [],
   "source": [
    "import json\n",
    "import numpy as np\n",
    "import pandas as pd\n",
    "import scipy.stats as stats\n",
    "from pathlib import Path\n",
    "from word2number import w2n\n",
    "import csv\n",
    "import re\n",
    "import math\n",
    "import matplotlib.pyplot as plt\n",
    "from pathlib import Path"
   ]
  },
  {
   "cell_type": "code",
   "execution_count": 2,
   "metadata": {},
   "outputs": [],
   "source": [
    "# Get raw question and answer data\n",
    "f = open('../../reVLAT_QAs.json')\n",
    "qaDict = json.load(f)\n",
    "\n",
    "dirList = ['reVLAT_Viz+Choices',\n",
    "           'reVLAT_NoViz+Choices',\n",
    "           'reVLAT_Viz+NoChoices',\n",
    "           'reVLAT_NoViz+NoChoices']"
   ]
  },
  {
   "cell_type": "code",
   "execution_count": 3,
   "metadata": {},
   "outputs": [],
   "source": [
    "taskTypes = {\n",
    "    'comparisons': 'make comparisons',\n",
    "    'correlations': 'find correlations/trends',\n",
    "    'extremum': 'find extremum',\n",
    "    'value': 'retrieve value',\n",
    "    'range': 'determine range'\n",
    "}"
   ]
  },
  {
   "cell_type": "code",
   "execution_count": 9,
   "metadata": {},
   "outputs": [],
   "source": [
    "# Get all the results\n",
    "# df = pd.read_csv('../allResults.csv')\n",
    "resultsNoChoices = pd.read_csv('noChoicesResults.csv')\n",
    "# resultsNoChoices = df[df['expType'].astype(str).str.contains('NoChoices')]\n",
    "\n",
    "# csvFilePath = '../noChoicesResults.csv'\n",
    "# csvFilePath = '/Users/jhong76/Downloads/noChoicesResults-csv.csv'\n",
    "# resultsNoChoices.to_csv(csvFilePath, index=False)\n",
    "\n",
    "resultsNoChoices_types = {} \n",
    "for type in taskTypes.keys():\n",
    "    resultsNoChoices_types[type] = resultsNoChoices[resultsNoChoices['qType_simple'] == taskTypes[type]]\n",
    "    "
   ]
  },
  {
   "cell_type": "code",
   "execution_count": 5,
   "metadata": {},
   "outputs": [],
   "source": [
    "def wordToNum(text):\n",
    "    try: \n",
    "        result = w2n.word_to_num(text)\n",
    "        return result\n",
    "    except:\n",
    "        return text"
   ]
  },
  {
   "cell_type": "code",
   "execution_count": 26,
   "metadata": {},
   "outputs": [
    {
     "name": "stdout",
     "output_type": "stream",
     "text": [
      "984\n"
     ]
    }
   ],
   "source": [
    "valueCounts = {}\n",
    "\n",
    "for i in resultsNoChoices.response:\n",
    "    # Delete the dot in the end\n",
    "    i = str(i)\n",
    "    i = i.rstrip('.')\n",
    "    # Delete Approximately\n",
    "    i = i.replace('Approximately', '')\n",
    "    # Delete space in the beginning\n",
    "    i = i.lstrip()\n",
    "    if i not in valueCounts:\n",
    "        valueCounts[i] = 1\n",
    "    else:\n",
    "        valueCounts[i] += 1\n",
    "\n",
    "print(len(valueCounts))\n",
    "\n",
    "with open('noChoices/noChoices_Responses_counts.json', 'w') as f:\n",
    "    json.dump(valueCounts, f, indent=4)"
   ]
  },
  {
   "cell_type": "code",
   "execution_count": 48,
   "metadata": {},
   "outputs": [],
   "source": [
    "valueCounts = {}\n",
    "\n",
    "for type in taskTypes.keys():\n",
    "    valueCounts[type] = {}\n",
    "    for i in resultsNoChoices_types[type]['response']:\n",
    "        # Delete the dot in the end\n",
    "        i = str(i)\n",
    "        i = i.rstrip('.')\n",
    "        # Delete Approximately\n",
    "        i = i.replace('Approximately', '')\n",
    "        # Delete space in the beginning\n",
    "        i = i.lstrip()\n",
    "        # change word to digit\n",
    "        i = wordToNum(i)\n",
    "        if i not in valueCounts[type]:\n",
    "            valueCounts[type][i] = 1\n",
    "        else:\n",
    "            valueCounts[type][i] += 1\n",
    "\n",
    "    with open('noChoices_'+type+'_Responses_counts.json', 'w') as f:\n",
    "        json.dump(valueCounts[type], f, indent=4)"
   ]
  },
  {
   "cell_type": "code",
   "execution_count": 5,
   "metadata": {},
   "outputs": [],
   "source": [
    "def has_numbers(inputString):\n",
    "    if isinstance(inputString, float):\n",
    "        return True\n",
    "    return any(char.isdigit() for char in inputString)"
   ]
  },
  {
   "cell_type": "code",
   "execution_count": 4,
   "metadata": {},
   "outputs": [],
   "source": [
    "def extract_numbers(s):\n",
    "    if ('330km' in str(s)): return [330000]\n",
    "    s = str(s).replace(',', '')\n",
    "    if (str(s).isdigit()): return [float(s)]\n",
    "    # Use regex to extract numbers from the string\n",
    "    numbers = re.findall(r\"[-+]?\\d*\\.\\d+|\\d+\", s)\n",
    "    # Convert the extracted numbers to float\n",
    "    numbers = [float(num) for num in numbers]\n",
    "    if (\"to\" in str(s)): return [numbers[0]/numbers[1]]\n",
    "    return numbers"
   ]
  },
  {
   "cell_type": "code",
   "execution_count": 6,
   "metadata": {},
   "outputs": [],
   "source": [
    "wrongFormat = ['Vague',\n",
    "           'Unknown',\n",
    "           'Random',\n",
    "           'Prompt Engineering']"
   ]
  },
  {
   "cell_type": "code",
   "execution_count": 11,
   "metadata": {},
   "outputs": [
    {
     "name": "stdout",
     "output_type": "stream",
     "text": [
      "Text Accuracy Rate: 4587 14243 1290\n",
      "Num Accuracy Rate: 4614\n"
     ]
    }
   ],
   "source": [
    "totalTextNum = 0\n",
    "correctTextNum = 0\n",
    "formatTextNum = 0\n",
    "\n",
    "totalRightTypeNum = 0\n",
    "totalNumericalNum = 0\n",
    "correctNumericalNum = 0\n",
    "resultsNoChoices.absoluteError = np.nan\n",
    "resultsNoChoices.relativeError = np.nan\n",
    "for index, row in resultsNoChoices.iterrows():\n",
    "    # deal with textual response\n",
    "    if (not has_numbers(row.answer)):\n",
    "        if (not has_numbers(row.response)):\n",
    "            totalTextNum += 1\n",
    "            if any(row.response in f for f in wrongFormat): formatTextNum += 1\n",
    "            if (row.answer in row.response):\n",
    "                resultsNoChoices.loc[index, 'correct'] = 1\n",
    "                correctTextNum += 1\n",
    "            else:\n",
    "                resultsNoChoices.loc[index, 'correct'] = 0\n",
    "    # deal with numerical response\n",
    "    else:\n",
    "        if (\"When was the average price\" in row.question or\n",
    "            \"when was the number of girls named\" in row.question):\n",
    "            totalTextNum += 1\n",
    "            if any(row.response in f for f in wrongFormat): formatTextNum += 1\n",
    "            if (row.response != row.answer):\n",
    "                resultsNoChoices.loc[index, 'correct'] = 0\n",
    "            else: \n",
    "                resultsNoChoices.loc[index, 'correct'] = 1\n",
    "                correctTextNum += 1\n",
    "            continue\n",
    "        if (not has_numbers(row.response)):\n",
    "            resultsNoChoices.loc[index, 'correct'] = 0\n",
    "            continue\n",
    "        if (row.qType == \"Determine Range\"): continue\n",
    "        if (\"was the unemployment rate for Indiana\" in row.question):\n",
    "            if (row.response != row.response):\n",
    "                resultsNoChoices.loc[index, 'correct'] = 0\n",
    "                continue\n",
    "            if (not has_numbers(row.response)):\n",
    "                resultsNoChoices.loc[index, 'correct'] = 0\n",
    "                continue\n",
    "            elif (row.response == \"4.6%\" or row.response == \"4.8%\"): continue\n",
    "            else:\n",
    "                response = extract_numbers(row.response)[0]\n",
    "                if (response >= 1.1 and response <= 2.3):\n",
    "                    resultsNoChoices.loc[index, 'correct'] = 1\n",
    "                else: resultsNoChoices.loc[index, 'correct'] = 0\n",
    "                continue\n",
    "        if(\"rated the taxi the most\" in row.question):\n",
    "            if (has_numbers(row.response)):\n",
    "                response = extract_numbers(row.response)[0]\n",
    "                if (response >= 4 and response <= 4.2):\n",
    "                    resultsNoChoices.loc[index, 'correct'] = 1\n",
    "                else: resultsNoChoices.loc[index, 'correct'] = 0\n",
    "            else: resultsNoChoices.loc[index, 'correct'] = 0\n",
    "            continue\n",
    "        if (row.response != row.response):\n",
    "            resultsNoChoices.loc[index, 'correct'] = 0\n",
    "            continue\n",
    "        totalRightTypeNum += 1\n",
    "        response = extract_numbers(row.response)[0]\n",
    "        trueAnswer = extract_numbers(row.answer)[0]\n",
    "        resultsNoChoices.loc[index, 'absoluteError'] = abs(response - trueAnswer)\n",
    "        resultsNoChoices.loc[index, 'relativeError'] = abs(response - trueAnswer)/trueAnswer\n",
    "print(\"Text Accuracy Rate:\", correctTextNum, totalTextNum, formatTextNum)\n",
    "print(\"Num Accuracy Rate:\", totalRightTypeNum)\n",
    "# Save the modified DataFrame back to the CSV file\n",
    "resultsNoChoices.to_csv('noChoicesResults_text_singleWord.csv', index=False)\n",
    "\n",
    "# with open('noChoices/noChoices_Responses_counts.json', 'w') as f:\n",
    "#     json.dump(valueCounts, f, indent=4)"
   ]
  },
  {
   "cell_type": "code",
   "execution_count": 9,
   "metadata": {},
   "outputs": [],
   "source": [
    "def calculateConfidenceInterval(df, property):\n",
    "    stats = df.groupby(['LLM', 'expType'])[property].agg(['mean', 'count', 'std'])\n",
    "    \n",
    "    ci95_hi = []\n",
    "    ci95_lo = []\n",
    "\n",
    "    for i in stats.index:\n",
    "        m, c, s = stats.loc[i]\n",
    "        print(i, m, c, s)\n",
    "        ci95_hi.append(m + 1.96*s/math.sqrt(c))\n",
    "        ci95_lo.append(m - 1.96*s/math.sqrt(c))\n",
    "    \n",
    "    stats['ci95_hi'] = ci95_hi\n",
    "    stats['ci95_lo'] = ci95_lo\n",
    "    \n",
    "    return stats\n"
   ]
  },
  {
   "cell_type": "code",
   "execution_count": 16,
   "metadata": {},
   "outputs": [],
   "source": [
    "# Creating Confidence Interval\n",
    "def createCIFigure(data, property):\n",
    "    stats = calculateConfidenceInterval(data, property)\n",
    "\n",
    "    xerr = [[mean - low for mean, low in zip(stats['mean'], stats['ci95_lo'])], [hi - mean for mean, hi in zip(stats['mean'], stats['ci95_hi'])]]\n",
    "\n",
    "    font = {'fontname':'Arial'}\n",
    "    labels = ['ChatGPT+NoVis', 'ChatGPT+Vis', 'Gemini+NoVis', 'Gemini+Vis']\n",
    "    y = [1,1.5,2,2.5]\n",
    "    width = 0.3\n",
    "\n",
    "    plt.figure(figsize=(10, 5))\n",
    "    fig, ax = plt.subplots()\n",
    "\n",
    "    ax.barh(y, stats['mean'], width, label='Mean', xerr=xerr, color=\"#5f89c2\", capsize = 3, ecolor=\"#001D4A\")\n",
    "\n",
    "    # Add labels, title, and legend\n",
    "    ax.set_ylabel(property, **font, fontsize=12)\n",
    "    ax.set_title(property+' by Condintions', **font, fontsize=12)\n",
    "    ax.set_yticks(y)\n",
    "    ax.set_yticklabels(labels, **font, fontsize=12)\n",
    "    ax.legend()\n",
    "\n",
    "    # plt.xlim(0, 2.5)\n",
    "    plt.grid(axis='x', color='gray', linestyle='-', linewidth=0.5)\n",
    "    # plt.savefig(\"../../Figures/CI_NoChoices_SingleValue_RelativeError.pdf\")\n",
    "    # Show plot\n",
    "    plt.show()"
   ]
  },
  {
   "cell_type": "code",
   "execution_count": null,
   "metadata": {},
   "outputs": [],
   "source": [
    "createCIFigure(resultsNoChoices, 'relativeError')"
   ]
  },
  {
   "cell_type": "code",
   "execution_count": 11,
   "metadata": {},
   "outputs": [
    {
     "name": "stdout",
     "output_type": "stream",
     "text": [
      "        index               chartType  qNum  \\\n",
      "0      1539.0  100% Stacked Bar Chart     2   \n",
      "2       461.0                 Treemap     3   \n",
      "3       605.0       Stacked Bar Chart     3   \n",
      "4       700.0              Area Chart     2   \n",
      "5      1975.0              Line Chart     4   \n",
      "...       ...                     ...   ...   \n",
      "25432  4177.0            Bubble Chart     5   \n",
      "25434   649.0            Bubble Chart     6   \n",
      "25435  5381.0      Stacked Area Chart     6   \n",
      "25438  3977.0       Stacked Bar Chart     4   \n",
      "25439  5630.0      Stacked Area Chart     4   \n",
      "\n",
      "                                                question              answer  \\\n",
      "0      What is the education level of people in which...  Postgraduate Study   \n",
      "2             Amazon is nested in the Computer category.               False   \n",
      "3         In which city is the cost of soda the highest?             Chicago   \n",
      "4      When was the average price of a pound of coffe...          March 2013   \n",
      "5      Over the course of the second half of 2015, th...              rising   \n",
      "...                                                  ...                 ...   \n",
      "25432  A group of the metro systems of the world has ...               False   \n",
      "25434  In general, the ridership of the metro system ...                True   \n",
      "25435  Over the course of years between 2009 and 2014...               False   \n",
      "25438  The cost of water in Boston is higher than tha...               False   \n",
      "25439  The number of girls named 'Isla' was ______ fr...             falling   \n",
      "\n",
      "                                     qType  \\\n",
      "0           Find Extremum (relative value)   \n",
      "2      Identify the Hierarchical Structure   \n",
      "3                            Find Extremum   \n",
      "4                            Find Extremum   \n",
      "5                 Find Correlations/Trends   \n",
      "...                                    ...   \n",
      "25432                        Find clusters   \n",
      "25434             Find correlations/trends   \n",
      "25435    Make Comparisons (relative value)   \n",
      "25438    Make Comparisons (absolute value)   \n",
      "25439             Find Correlations/Trends   \n",
      "\n",
      "                                                 qaInput            response  \\\n",
      "0      What is the education level of people in which...  Postgraduate Study   \n",
      "2             Amazon is nested in the Computer category.               False   \n",
      "3         In which city is the cost of soda the highest?            Honolulu   \n",
      "4      When was the average price of a pound of coffe...            November   \n",
      "5      Over the course of the second half of 2015, th...              rising   \n",
      "...                                                  ...                 ...   \n",
      "25432  A group of the metro systems of the world has ...  Prompt Engineering   \n",
      "25434  In general, the ridership of the metro system ...                True   \n",
      "25435  Over the course of years between 2009 and 2014...               False   \n",
      "25438  The cost of water in Boston is higher than tha...                True   \n",
      "25439  The number of girls named 'Isla' was ______ fr...              rising   \n",
      "\n",
      "            time  correct                         qType_simple  \\\n",
      "0       1.435585      1.0                        find extremum   \n",
      "2       2.828208      1.0  identify the hierarchical structure   \n",
      "3       3.068865      0.0                        find extremum   \n",
      "4       6.163520      0.0                        find extremum   \n",
      "5       1.802646      1.0             find correlations/trends   \n",
      "...          ...      ...                                  ...   \n",
      "25432   2.250044      0.0                        find clusters   \n",
      "25434  17.125477      1.0             find correlations/trends   \n",
      "25435   0.703196      1.0                     make comparisons   \n",
      "25438   3.625064      0.0                     make comparisons   \n",
      "25439   0.719168      0.0             find correlations/trends   \n",
      "\n",
      "                      expType      LLM  absoluteError  relativeError  \n",
      "0        reVLAT_Viz+NoChoices  ChatGPT            NaN            NaN  \n",
      "2        reVLAT_Viz+NoChoices  ChatGPT            NaN            NaN  \n",
      "3        reVLAT_Viz+NoChoices  ChatGPT            NaN            NaN  \n",
      "4        reVLAT_Viz+NoChoices  ChatGPT            NaN            NaN  \n",
      "5        reVLAT_Viz+NoChoices  ChatGPT            NaN            NaN  \n",
      "...                       ...      ...            ...            ...  \n",
      "25432  reVLAT_NoViz+NoChoices   Gemini            NaN            NaN  \n",
      "25434  reVLAT_NoViz+NoChoices   Gemini            NaN            NaN  \n",
      "25435  reVLAT_NoViz+NoChoices   Gemini            NaN            NaN  \n",
      "25438  reVLAT_NoViz+NoChoices   Gemini            NaN            NaN  \n",
      "25439  reVLAT_NoViz+NoChoices   Gemini            NaN            NaN  \n",
      "\n",
      "[14400 rows x 15 columns]\n"
     ]
    }
   ],
   "source": [
    "textualQuestions = {\n",
    "    'Line Chart': [2,4],\n",
    "    'Bar Chart': [2],\n",
    "    'Stacked Bar Chart': [3,4,5],\n",
    "    '100% Stacked Bar Chart': [2,3],\n",
    "    'Pie Chart': [2,3],\n",
    "    'Histogram': [3],\n",
    "    'Scatterplot': [5,6,7],\n",
    "    'Bubble Chart': [2,4,5,6,7],\n",
    "    'Area Chart': [2,4],\n",
    "    'Stacked Area Chart': [3,4,5,6],\n",
    "    'Choropleth Map': [2,3],\n",
    "    'Treemap': [1,2,3]\n",
    "}\n",
    "\n",
    "resultsNoChoices = pd.read_csv('noChoicesResults_text_singleWord.csv')\n",
    "\n",
    "textual = []\n",
    "for index, row in resultsNoChoices.iterrows():\n",
    "    if (row.qNum in textualQuestions[row.chartType]):\n",
    "        textual.append(row)\n",
    "\n",
    "resultsTextual = pd.DataFrame(textual)"
   ]
  },
  {
   "cell_type": "code",
   "execution_count": 17,
   "metadata": {},
   "outputs": [
    {
     "name": "stdout",
     "output_type": "stream",
     "text": [
      "('ChatGPT', 'reVLAT_NoViz+NoChoices') 0.2833333333333333 3480.0 0.4506816189118304\n",
      "('ChatGPT', 'reVLAT_Viz+NoChoices') 0.38272295219457647 3577.0 0.4861194898397104\n",
      "('Gemini', 'reVLAT_NoViz+NoChoices') 0.29726715002788623 3586.0 0.45711887069370544\n",
      "('Gemini', 'reVLAT_Viz+NoChoices') 0.3238888888888889 3600.0 0.4680232073062823\n"
     ]
    },
    {
     "data": {
      "text/plain": [
       "<Figure size 1000x500 with 0 Axes>"
      ]
     },
     "metadata": {},
     "output_type": "display_data"
    },
    {
     "data": {
      "image/png": "[encoded data removed]",
      "text/plain": [
       "<Figure size 640x480 with 1 Axes>"
      ]
     },
     "metadata": {},
     "output_type": "display_data"
    }
   ],
   "source": [
    "createCIFigure(resultsTextual, 'correct')"
   ]
  }
 ],
 "metadata": {
  "kernelspec": {
   "display_name": "Python 3 (ipykernel)",
   "language": "python",
   "name": "python3"
  },
  "language_info": {
   "codemirror_mode": {
    "name": "ipython",
    "version": 3
   },
   "file_extension": ".py",
   "mimetype": "text/x-python",
   "name": "python",
   "nbconvert_exporter": "python",
   "pygments_lexer": "ipython3",
   "version": "3.11.2"
  }
 },
 "nbformat": 4,
 "nbformat_minor": 4
}
